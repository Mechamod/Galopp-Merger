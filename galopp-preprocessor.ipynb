{
 "cells": [
  {
   "cell_type": "markdown",
   "metadata": {},
   "source": [
    "# Galopp-Preprocessor\n",
    "\n",
    "For this step in the project I will use jupyter notebook, because it is way faster to visualize and more flexible on doin data preprocessing. (The exploratory data analysis part will also be with jupyter notebook)"
   ]
  },
  {
   "cell_type": "markdown",
   "metadata": {},
   "source": [
    "### Imports"
   ]
  },
  {
   "cell_type": "code",
   "execution_count": 1,
   "metadata": {},
   "outputs": [],
   "source": [
    "import pandas as pd"
   ]
  },
  {
   "cell_type": "markdown",
   "metadata": {},
   "source": [
    "### Load dataset"
   ]
  },
  {
   "cell_type": "code",
   "execution_count": 2,
   "metadata": {},
   "outputs": [
    {
     "data": {
      "text/html": [
       "<div>\n",
       "<style scoped>\n",
       "    .dataframe tbody tr th:only-of-type {\n",
       "        vertical-align: middle;\n",
       "    }\n",
       "\n",
       "    .dataframe tbody tr th {\n",
       "        vertical-align: top;\n",
       "    }\n",
       "\n",
       "    .dataframe thead th {\n",
       "        text-align: right;\n",
       "    }\n",
       "</style>\n",
       "<table border=\"1\" class=\"dataframe\">\n",
       "  <thead>\n",
       "    <tr style=\"text-align: right;\">\n",
       "      <th></th>\n",
       "      <th>Date</th>\n",
       "      <th>Location</th>\n",
       "      <th>Distance</th>\n",
       "      <th>Prize</th>\n",
       "      <th>Category</th>\n",
       "      <th>Class</th>\n",
       "      <th>Ground_state</th>\n",
       "      <th>Horses</th>\n",
       "    </tr>\n",
       "  </thead>\n",
       "  <tbody>\n",
       "    <tr>\n",
       "      <th>5754</th>\n",
       "      <td>03. September 2017</td>\n",
       "      <td>Baden-Baden</td>\n",
       "      <td>1500 m</td>\n",
       "      <td>6000 €</td>\n",
       "      <td>D</td>\n",
       "      <td>NaN</td>\n",
       "      <td>Boden: gut</td>\n",
       "      <td>['                   1.             ', ' Kilde...</td>\n",
       "    </tr>\n",
       "    <tr>\n",
       "      <th>3200</th>\n",
       "      <td>22. August 2015</td>\n",
       "      <td>Magdeburg</td>\n",
       "      <td>1800 m</td>\n",
       "      <td>3500 €</td>\n",
       "      <td>F</td>\n",
       "      <td>IV</td>\n",
       "      <td>Boden: gut</td>\n",
       "      <td>['                   1.             ', ' Shinn...</td>\n",
       "    </tr>\n",
       "    <tr>\n",
       "      <th>8650</th>\n",
       "      <td>13. Juni 2020</td>\n",
       "      <td>Dresden</td>\n",
       "      <td>1400 m</td>\n",
       "      <td>4000 €</td>\n",
       "      <td>D</td>\n",
       "      <td>III</td>\n",
       "      <td>Boden: gut</td>\n",
       "      <td>['                   1.             ', ' Miste...</td>\n",
       "    </tr>\n",
       "    <tr>\n",
       "      <th>8290</th>\n",
       "      <td>31. Oktober 2019</td>\n",
       "      <td>Halle</td>\n",
       "      <td>1750 m</td>\n",
       "      <td>4000 €</td>\n",
       "      <td>E</td>\n",
       "      <td>NaN</td>\n",
       "      <td>Boden: gut stellenweise w...</td>\n",
       "      <td>['                   1.             ', ' Newto...</td>\n",
       "    </tr>\n",
       "    <tr>\n",
       "      <th>3575</th>\n",
       "      <td>14. November 2015</td>\n",
       "      <td>Bremen</td>\n",
       "      <td>1600 m</td>\n",
       "      <td>5100 €</td>\n",
       "      <td>D</td>\n",
       "      <td>3yo</td>\n",
       "      <td>Boden: w-s</td>\n",
       "      <td>['                   1.             ', ' Moone...</td>\n",
       "    </tr>\n",
       "  </tbody>\n",
       "</table>\n",
       "</div>"
      ],
      "text/plain": [
       "                                                Date  \\\n",
       "5754                 03. September 2017                \n",
       "3200                    22. August 2015                \n",
       "8650                      13. Juni 2020                \n",
       "8290                   31. Oktober 2019                \n",
       "3575                  14. November 2015                \n",
       "\n",
       "                                   Location  Distance     Prize Category  \\\n",
       "5754                Baden-Baden              1500 m      6000 €        D   \n",
       "3200                  Magdeburg              1800 m      3500 €        F   \n",
       "8650                    Dresden              1400 m      4000 €        D   \n",
       "8290                      Halle              1750 m      4000 €        E   \n",
       "3575                     Bremen              1600 m      5100 €        D   \n",
       "\n",
       "     Class                                       Ground_state  \\\n",
       "5754   NaN                       Boden: gut                     \n",
       "3200    IV                       Boden: gut                     \n",
       "8650   III                       Boden: gut                     \n",
       "8290   NaN                       Boden: gut stellenweise w...   \n",
       "3575   3yo                       Boden: w-s                     \n",
       "\n",
       "                                                 Horses  \n",
       "5754  ['                   1.             ', ' Kilde...  \n",
       "3200  ['                   1.             ', ' Shinn...  \n",
       "8650  ['                   1.             ', ' Miste...  \n",
       "8290  ['                   1.             ', ' Newto...  \n",
       "3575  ['                   1.             ', ' Moone...  "
      ]
     },
     "execution_count": 2,
     "metadata": {},
     "output_type": "execute_result"
    }
   ],
   "source": [
    "galopp = pd.read_csv(\"all_races.csv\")\n",
    "galopp.sample(5)"
   ]
  },
  {
   "cell_type": "markdown",
   "metadata": {},
   "source": [
    "### Look at general information"
   ]
  },
  {
   "cell_type": "code",
   "execution_count": 3,
   "metadata": {},
   "outputs": [
    {
     "data": {
      "text/plain": [
       "Index(['Date', 'Location', 'Distance', 'Prize', 'Category', 'Class',\n",
       "       'Ground_state', 'Horses'],\n",
       "      dtype='object')"
      ]
     },
     "execution_count": 3,
     "metadata": {},
     "output_type": "execute_result"
    }
   ],
   "source": [
    "galopp.columns"
   ]
  },
  {
   "cell_type": "code",
   "execution_count": 4,
   "metadata": {},
   "outputs": [
    {
     "name": "stdout",
     "output_type": "stream",
     "text": [
      "Date              15\n",
      "Location          15\n",
      "Distance           0\n",
      "Prize              0\n",
      "Category        3115\n",
      "Class           4245\n",
      "Ground_state       0\n",
      "Horses             0\n",
      "dtype: int64\n",
      "\n",
      "Date             0.162725\n",
      "Location         0.162725\n",
      "Distance         0.000000\n",
      "Prize            0.000000\n",
      "Category        33.792580\n",
      "Class           46.051204\n",
      "Ground_state     0.000000\n",
      "Horses           0.000000\n",
      "dtype: float64\n"
     ]
    }
   ],
   "source": [
    "print(galopp.isna().sum())\n",
    "print(\"\")\n",
    "print(galopp.isna().sum()/len(galopp)*100)"
   ]
  },
  {
   "cell_type": "code",
   "execution_count": 5,
   "metadata": {},
   "outputs": [
    {
     "name": "stdout",
     "output_type": "stream",
     "text": [
      "<class 'pandas.core.frame.DataFrame'>\n",
      "RangeIndex: 9218 entries, 0 to 9217\n",
      "Data columns (total 8 columns):\n",
      " #   Column        Non-Null Count  Dtype \n",
      "---  ------        --------------  ----- \n",
      " 0   Date          9203 non-null   object\n",
      " 1   Location      9203 non-null   object\n",
      " 2   Distance      9218 non-null   object\n",
      " 3   Prize         9218 non-null   object\n",
      " 4   Category      6103 non-null   object\n",
      " 5   Class         4973 non-null   object\n",
      " 6   Ground_state  9218 non-null   object\n",
      " 7   Horses        9218 non-null   object\n",
      "dtypes: object(8)\n",
      "memory usage: 576.2+ KB\n"
     ]
    }
   ],
   "source": [
    "galopp.info()"
   ]
  },
  {
   "cell_type": "markdown",
   "metadata": {},
   "source": [
    "First thing I see is that there are some NaN values. 15 each on _Date_ and _Location_ (which are only 0.16% of the whole set). Because only a few are missing, and they are not really important to my goal, I fill them with the mode (normally not really applicable for the _Date_ , but it should be sufficient).\n",
    "\n",
    "Also, the columns 'Category' and 'Class' are missing 3115 and 4245, which are ~33% and ~46%. Normally, because they are categorical, they could be filled with the mode, but so many values are missing, so I decide to drop them, as they are not important for my goal.\n",
    "\n",
    "Next, the datatypes should be changed for _Distance_ and _Prize_ to int. But before that, the 'm' in _Distance_ and the '€' in _Prize_ have to be removed. (Also, there are '\\xa0's in both columns for each entry! These have to be removed too before converting to int.). And, at last, fill the empty strings with a 0, otherwise this would lead to ValueErrors when converting to int.\n",
    "\n",
    "The _Ground_state_ always contains the prefix 'Boden: ', this can also be removed."
   ]
  },
  {
   "cell_type": "code",
   "execution_count": 6,
   "metadata": {},
   "outputs": [],
   "source": [
    "# Drop columns\n",
    "galopp.drop(columns=[\"Category\", \"Class\"], inplace=True)\n",
    "\n",
    "# Fill dates and location by \n",
    "galopp[\"Date\"].fillna(galopp[\"Date\"].mode(), inplace=True)\n",
    "galopp[\"Location\"].fillna(galopp[\"Location\"].mode(), inplace=True)\n",
    "\n",
    "# Remove units\n",
    "galopp[\"Distance\"] = galopp[\"Distance\"].apply(lambda x: x.replace(\"m\", \"\"))\n",
    "galopp[\"Prize\"] = galopp[\"Prize\"].apply(lambda x: x.replace(\"€\", \"\"))\n",
    "\n",
    "# Remove bytes\n",
    "galopp[\"Distance\"] = galopp[\"Distance\"].apply(lambda x: x.replace(\"\\xa0\", \"\"))\n",
    "galopp[\"Prize\"] = galopp[\"Prize\"].apply(lambda x: x.replace(\"\\xa0\", \"\"))\n",
    "\n",
    "# Fill empty strings with 0\n",
    "galopp[\"Distance\"] = galopp[\"Distance\"].apply(lambda x: \"0\" if len(x) == 0 else x)\n",
    "galopp[\"Prize\"] = galopp[\"Prize\"].apply(lambda x: \"0\" if len(x) == 0 else x)\n",
    "\n",
    "# Change datatype to int\n",
    "galopp[\"Distance\"] = galopp[\"Distance\"].astype(int)\n",
    "galopp[\"Prize\"] = galopp[\"Prize\"].astype(int)\n",
    "\n",
    "# Remove 'Boden: ' prefix\n",
    "galopp[\"Ground_state\"] = galopp[\"Ground_state\"].apply(lambda x: x.replace(\"Boden: \", \"\"))"
   ]
  },
  {
   "cell_type": "markdown",
   "metadata": {},
   "source": [
    "Looking at the dataframe again:"
   ]
  },
  {
   "cell_type": "code",
   "execution_count": 7,
   "metadata": {},
   "outputs": [
    {
     "name": "stdout",
     "output_type": "stream",
     "text": [
      "<class 'pandas.core.frame.DataFrame'>\n",
      "RangeIndex: 9218 entries, 0 to 9217\n",
      "Data columns (total 6 columns):\n",
      " #   Column        Non-Null Count  Dtype \n",
      "---  ------        --------------  ----- \n",
      " 0   Date          9203 non-null   object\n",
      " 1   Location      9203 non-null   object\n",
      " 2   Distance      9218 non-null   int64 \n",
      " 3   Prize         9218 non-null   int64 \n",
      " 4   Ground_state  9218 non-null   object\n",
      " 5   Horses        9218 non-null   object\n",
      "dtypes: int64(2), object(4)\n",
      "memory usage: 432.2+ KB\n"
     ]
    }
   ],
   "source": [
    "galopp.info()"
   ]
  },
  {
   "cell_type": "code",
   "execution_count": 8,
   "metadata": {},
   "outputs": [
    {
     "data": {
      "text/html": [
       "<div>\n",
       "<style scoped>\n",
       "    .dataframe tbody tr th:only-of-type {\n",
       "        vertical-align: middle;\n",
       "    }\n",
       "\n",
       "    .dataframe tbody tr th {\n",
       "        vertical-align: top;\n",
       "    }\n",
       "\n",
       "    .dataframe thead th {\n",
       "        text-align: right;\n",
       "    }\n",
       "</style>\n",
       "<table border=\"1\" class=\"dataframe\">\n",
       "  <thead>\n",
       "    <tr style=\"text-align: right;\">\n",
       "      <th></th>\n",
       "      <th>Date</th>\n",
       "      <th>Location</th>\n",
       "      <th>Distance</th>\n",
       "      <th>Prize</th>\n",
       "      <th>Ground_state</th>\n",
       "      <th>Horses</th>\n",
       "    </tr>\n",
       "  </thead>\n",
       "  <tbody>\n",
       "    <tr>\n",
       "      <th>2857</th>\n",
       "      <td>10. Juni 2015</td>\n",
       "      <td>Mons</td>\n",
       "      <td>2300</td>\n",
       "      <td>5600</td>\n",
       "      <td>Sand</td>\n",
       "      <td>['                   1.             ', ' Princ...</td>\n",
       "    </tr>\n",
       "    <tr>\n",
       "      <th>4107</th>\n",
       "      <td>28. Mai 2016</td>\n",
       "      <td>Baden-Baden</td>\n",
       "      <td>1800</td>\n",
       "      <td>10000</td>\n",
       "      <td>gut</td>\n",
       "      <td>['                   1.             ', ' Bearh...</td>\n",
       "    </tr>\n",
       "    <tr>\n",
       "      <th>3954</th>\n",
       "      <td>01. Mai 2016</td>\n",
       "      <td>Leipzig</td>\n",
       "      <td>1850</td>\n",
       "      <td>10000</td>\n",
       "      <td>gut</td>\n",
       "      <td>['                   1.             ', ' Miss ...</td>\n",
       "    </tr>\n",
       "    <tr>\n",
       "      <th>7899</th>\n",
       "      <td>28. Juli 2019</td>\n",
       "      <td>Erbach</td>\n",
       "      <td>2150</td>\n",
       "      <td>5000</td>\n",
       "      <td>gut</td>\n",
       "      <td>['                   1.             ', ' Smoke...</td>\n",
       "    </tr>\n",
       "    <tr>\n",
       "      <th>9099</th>\n",
       "      <td>04. Oktober 2020</td>\n",
       "      <td>Hannover</td>\n",
       "      <td>2000</td>\n",
       "      <td>52000</td>\n",
       "      <td>gut stellenweise weich   ...</td>\n",
       "      <td>['                   1.             ', ' Sky E...</td>\n",
       "    </tr>\n",
       "    <tr>\n",
       "      <th>800</th>\n",
       "      <td>20. Oktober 2013</td>\n",
       "      <td>Baden-Baden</td>\n",
       "      <td>2200</td>\n",
       "      <td>0</td>\n",
       "      <td>schwer</td>\n",
       "      <td>['                   1.             ', ' Talit...</td>\n",
       "    </tr>\n",
       "    <tr>\n",
       "      <th>6125</th>\n",
       "      <td>27. Februar 2018</td>\n",
       "      <td>Neuss (Sand)</td>\n",
       "      <td>1900</td>\n",
       "      <td>4000</td>\n",
       "      <td>normal</td>\n",
       "      <td>['                   1.             ', ' Simin...</td>\n",
       "    </tr>\n",
       "    <tr>\n",
       "      <th>509</th>\n",
       "      <td>14. Juli 2013</td>\n",
       "      <td>München</td>\n",
       "      <td>1600</td>\n",
       "      <td>0</td>\n",
       "      <td>gut</td>\n",
       "      <td>['                   1.             ', ' Quick...</td>\n",
       "    </tr>\n",
       "    <tr>\n",
       "      <th>5804</th>\n",
       "      <td>17. September 2017</td>\n",
       "      <td>Hannover</td>\n",
       "      <td>1400</td>\n",
       "      <td>5100</td>\n",
       "      <td>gut</td>\n",
       "      <td>['                   1.             ', ' Amora...</td>\n",
       "    </tr>\n",
       "    <tr>\n",
       "      <th>1162</th>\n",
       "      <td>21. April 2014</td>\n",
       "      <td>Hannover</td>\n",
       "      <td>1900</td>\n",
       "      <td>0</td>\n",
       "      <td>g-w</td>\n",
       "      <td>['                   1.             ', ' Invad...</td>\n",
       "    </tr>\n",
       "  </tbody>\n",
       "</table>\n",
       "</div>"
      ],
      "text/plain": [
       "                                                Date  \\\n",
       "2857                      10. Juni 2015                \n",
       "4107                       28. Mai 2016                \n",
       "3954                       01. Mai 2016                \n",
       "7899                      28. Juli 2019                \n",
       "9099                   04. Oktober 2020                \n",
       "800                    20. Oktober 2013                \n",
       "6125                   27. Februar 2018                \n",
       "509                       14. Juli 2013                \n",
       "5804                 17. September 2017                \n",
       "1162                     21. April 2014                \n",
       "\n",
       "                                    Location  Distance  Prize  \\\n",
       "2857                        Mons                  2300   5600   \n",
       "4107                 Baden-Baden                  1800  10000   \n",
       "3954                     Leipzig                  1850  10000   \n",
       "7899                      Erbach                  2150   5000   \n",
       "9099                    Hannover                  2000  52000   \n",
       "800                  Baden-Baden                  2200      0   \n",
       "6125                Neuss (Sand)                  1900   4000   \n",
       "509                      München                  1600      0   \n",
       "5804                    Hannover                  1400   5100   \n",
       "1162                    Hannover                  1900      0   \n",
       "\n",
       "                                           Ground_state  \\\n",
       "2857                             Sand                     \n",
       "4107                              gut                     \n",
       "3954                              gut                     \n",
       "7899                              gut                     \n",
       "9099                       gut stellenweise weich   ...   \n",
       "800                            schwer                     \n",
       "6125                           normal                     \n",
       "509                               gut                     \n",
       "5804                              gut                     \n",
       "1162                              g-w                     \n",
       "\n",
       "                                                 Horses  \n",
       "2857  ['                   1.             ', ' Princ...  \n",
       "4107  ['                   1.             ', ' Bearh...  \n",
       "3954  ['                   1.             ', ' Miss ...  \n",
       "7899  ['                   1.             ', ' Smoke...  \n",
       "9099  ['                   1.             ', ' Sky E...  \n",
       "800   ['                   1.             ', ' Talit...  \n",
       "6125  ['                   1.             ', ' Simin...  \n",
       "509   ['                   1.             ', ' Quick...  \n",
       "5804  ['                   1.             ', ' Amora...  \n",
       "1162  ['                   1.             ', ' Invad...  "
      ]
     },
     "execution_count": 8,
     "metadata": {},
     "output_type": "execute_result"
    }
   ],
   "source": [
    "galopp.sample(10)"
   ]
  },
  {
   "cell_type": "markdown",
   "metadata": {},
   "source": [
    "No NaNs and the fitting datatype, also the samples looking good aswell.\n",
    "So for those columns everything that needs to be done is done. Lets go on with the horses per race. For this, I intend to:\n",
    "- get the list of horses and make another dataframe of it\n",
    "- Clean this dataset (No column names and datatypes here)\n",
    "- Return the cleaned dataframe as a list and replace it"
   ]
  },
  {
   "cell_type": "markdown",
   "metadata": {},
   "source": [
    "### Load the list in a dataset"
   ]
  },
  {
   "cell_type": "markdown",
   "metadata": {},
   "source": [
    "### Clean"
   ]
  },
  {
   "cell_type": "markdown",
   "metadata": {},
   "source": [
    "### Return"
   ]
  }
 ],
 "metadata": {
  "kernelspec": {
   "display_name": "Python 3",
   "language": "python",
   "name": "python3"
  },
  "language_info": {
   "codemirror_mode": {
    "name": "ipython",
    "version": 3
   },
   "file_extension": ".py",
   "mimetype": "text/x-python",
   "name": "python",
   "nbconvert_exporter": "python",
   "pygments_lexer": "ipython3",
   "version": "3.7.6"
  }
 },
 "nbformat": 4,
 "nbformat_minor": 4
}
