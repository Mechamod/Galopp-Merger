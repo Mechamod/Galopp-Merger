{
 "cells": [
  {
   "cell_type": "markdown",
   "metadata": {},
   "source": [
    "# Galopp-Preprocessor\n",
    "\n",
    "For this step in the project I will use jupyter notebook, because it is way faster to visualize and more flexible on doin data preprocessing. (The exploratory data analysis part will also be with jupyter notebook)"
   ]
  },
  {
   "cell_type": "markdown",
   "metadata": {},
   "source": [
    "### Imports"
   ]
  },
  {
   "cell_type": "code",
   "execution_count": 1,
   "metadata": {},
   "outputs": [],
   "source": [
    "import pandas as pd"
   ]
  },
  {
   "cell_type": "markdown",
   "metadata": {},
   "source": [
    "### Load dataset"
   ]
  },
  {
   "cell_type": "code",
   "execution_count": 2,
   "metadata": {},
   "outputs": [
    {
     "data": {
      "text/html": [
       "<div>\n",
       "<style scoped>\n",
       "    .dataframe tbody tr th:only-of-type {\n",
       "        vertical-align: middle;\n",
       "    }\n",
       "\n",
       "    .dataframe tbody tr th {\n",
       "        vertical-align: top;\n",
       "    }\n",
       "\n",
       "    .dataframe thead th {\n",
       "        text-align: right;\n",
       "    }\n",
       "</style>\n",
       "<table border=\"1\" class=\"dataframe\">\n",
       "  <thead>\n",
       "    <tr style=\"text-align: right;\">\n",
       "      <th></th>\n",
       "      <th>Date</th>\n",
       "      <th>Location</th>\n",
       "      <th>Distance</th>\n",
       "      <th>Prize</th>\n",
       "      <th>Category</th>\n",
       "      <th>Class</th>\n",
       "      <th>Ground_state</th>\n",
       "      <th>Horses</th>\n",
       "    </tr>\n",
       "  </thead>\n",
       "  <tbody>\n",
       "    <tr>\n",
       "      <th>2504</th>\n",
       "      <td>06. April 2015</td>\n",
       "      <td>Köln</td>\n",
       "      <td>1850 m</td>\n",
       "      <td>4000 €</td>\n",
       "      <td>NaN</td>\n",
       "      <td>NaN</td>\n",
       "      <td>Boden: weich             ...</td>\n",
       "      <td>['                   1.             ', ' Balti...</td>\n",
       "    </tr>\n",
       "    <tr>\n",
       "      <th>4446</th>\n",
       "      <td>13. August 2016</td>\n",
       "      <td>Hoppegarten</td>\n",
       "      <td>1600 m</td>\n",
       "      <td>5100 €</td>\n",
       "      <td>D</td>\n",
       "      <td>3yo</td>\n",
       "      <td>Boden: gut</td>\n",
       "      <td>['                   1.             ', ' Calan...</td>\n",
       "    </tr>\n",
       "    <tr>\n",
       "      <th>5110</th>\n",
       "      <td>01. Mai 2017</td>\n",
       "      <td>Leipzig</td>\n",
       "      <td>1850 m</td>\n",
       "      <td>5100 €</td>\n",
       "      <td>D</td>\n",
       "      <td>III</td>\n",
       "      <td>Boden: gut</td>\n",
       "      <td>['                   1.             ', ' Bursc...</td>\n",
       "    </tr>\n",
       "    <tr>\n",
       "      <th>3900</th>\n",
       "      <td>23. April 2016</td>\n",
       "      <td>Mülheim</td>\n",
       "      <td>1400 m</td>\n",
       "      <td>7000 €</td>\n",
       "      <td>D</td>\n",
       "      <td>III</td>\n",
       "      <td>Boden: gut</td>\n",
       "      <td>['                   1.             ', ' My Ma...</td>\n",
       "    </tr>\n",
       "    <tr>\n",
       "      <th>5509</th>\n",
       "      <td>11. Juli 2017</td>\n",
       "      <td>München</td>\n",
       "      <td>1300 m</td>\n",
       "      <td>6000 €</td>\n",
       "      <td>E</td>\n",
       "      <td>IV</td>\n",
       "      <td>Boden: gut</td>\n",
       "      <td>['                   1.             ', ' Arine...</td>\n",
       "    </tr>\n",
       "  </tbody>\n",
       "</table>\n",
       "</div>"
      ],
      "text/plain": [
       "                                             Date  \\\n",
       "2504                  06. April 2015                \n",
       "4446                 13. August 2016                \n",
       "5110                    01. Mai 2017                \n",
       "3900                  23. April 2016                \n",
       "5509                   11. Juli 2017                \n",
       "\n",
       "                                   Location  Distance     Prize Category  \\\n",
       "2504                       Köln              1850 m      4000 €      NaN   \n",
       "4446                Hoppegarten              1600 m      5100 €        D   \n",
       "5110                    Leipzig              1850 m      5100 €        D   \n",
       "3900                    Mülheim              1400 m      7000 €        D   \n",
       "5509                    München              1300 m      6000 €        E   \n",
       "\n",
       "     Class                                       Ground_state  \\\n",
       "2504   NaN                       Boden: weich             ...   \n",
       "4446   3yo                       Boden: gut                     \n",
       "5110   III                       Boden: gut                     \n",
       "3900   III                       Boden: gut                     \n",
       "5509    IV                       Boden: gut                     \n",
       "\n",
       "                                                 Horses  \n",
       "2504  ['                   1.             ', ' Balti...  \n",
       "4446  ['                   1.             ', ' Calan...  \n",
       "5110  ['                   1.             ', ' Bursc...  \n",
       "3900  ['                   1.             ', ' My Ma...  \n",
       "5509  ['                   1.             ', ' Arine...  "
      ]
     },
     "execution_count": 2,
     "metadata": {},
     "output_type": "execute_result"
    }
   ],
   "source": [
    "galopp = pd.read_csv(\"all_races.csv\")\n",
    "galopp.sample(5)"
   ]
  },
  {
   "cell_type": "code",
   "execution_count": 3,
   "metadata": {},
   "outputs": [
    {
     "data": {
      "text/plain": [
       "Index(['Date', 'Location', 'Distance', 'Prize', 'Category', 'Class',\n",
       "       'Ground_state', 'Horses'],\n",
       "      dtype='object')"
      ]
     },
     "execution_count": 3,
     "metadata": {},
     "output_type": "execute_result"
    }
   ],
   "source": [
    "galopp.columns"
   ]
  },
  {
   "cell_type": "code",
   "execution_count": 4,
   "metadata": {},
   "outputs": [
    {
     "name": "stdout",
     "output_type": "stream",
     "text": [
      "Date              15\n",
      "Location          15\n",
      "Distance           0\n",
      "Prize              0\n",
      "Category        3115\n",
      "Class           4245\n",
      "Ground_state       0\n",
      "Horses             0\n",
      "dtype: int64\n",
      "\n",
      "Date             0.162725\n",
      "Location         0.162725\n",
      "Distance         0.000000\n",
      "Prize            0.000000\n",
      "Category        33.792580\n",
      "Class           46.051204\n",
      "Ground_state     0.000000\n",
      "Horses           0.000000\n",
      "dtype: float64\n"
     ]
    }
   ],
   "source": [
    "print(galopp.isna().sum())\n",
    "print(\"\")\n",
    "print(galopp.isna().sum()/len(galopp)*100)"
   ]
  },
  {
   "cell_type": "code",
   "execution_count": 5,
   "metadata": {},
   "outputs": [
    {
     "name": "stdout",
     "output_type": "stream",
     "text": [
      "<class 'pandas.core.frame.DataFrame'>\n",
      "RangeIndex: 9218 entries, 0 to 9217\n",
      "Data columns (total 8 columns):\n",
      " #   Column        Non-Null Count  Dtype \n",
      "---  ------        --------------  ----- \n",
      " 0   Date          9203 non-null   object\n",
      " 1   Location      9203 non-null   object\n",
      " 2   Distance      9218 non-null   object\n",
      " 3   Prize         9218 non-null   object\n",
      " 4   Category      6103 non-null   object\n",
      " 5   Class         4973 non-null   object\n",
      " 6   Ground_state  9218 non-null   object\n",
      " 7   Horses        9218 non-null   object\n",
      "dtypes: object(8)\n",
      "memory usage: 576.2+ KB\n"
     ]
    }
   ],
   "source": [
    "galopp.info()"
   ]
  },
  {
   "cell_type": "markdown",
   "metadata": {},
   "source": [
    "First thing I see is that there are some NaN values. 15 each on _Date_ and _Location_ (which are only 0.16% of the whole set). Because only a few are missing, and they are not really important to my goal, I fill them with the mode (normally not really applicable for the _Date_ , but it should be sufficient).\n",
    "\n",
    "Also, the columns 'Category' and 'Class' are missing 3115 and 4245, which are ~33% and ~46%. Normally, because they are categorical, they could be filled with the mode, but so many values are missing, so I decide to drop them, as they are not important for my goal.\n",
    "\n",
    "Next, the datatypes should be changed for _Distance_ and _Prize_ to int. But before that, the 'm' in _Distance_ and the '€' in _Prize_ have to be removed. (Also, there are '\\xa0's in both columns for each entry! These have to be removed too before converting to int.). And, at last, fill the empty strings with a 1, otherwise this would lead to ValueErrors when converting to int. These can be set to the mode (because it was originally a categorical entry) after the columns are int.\n",
    "\n",
    "The _Ground_state_ always contains the prefix 'Boden: ', this can also be removed."
   ]
  },
  {
   "cell_type": "code",
   "execution_count": 6,
   "metadata": {},
   "outputs": [],
   "source": [
    "galopp[\"Date\"].fillna(galopp[\"Date\"].mode(), inplace=True)\n",
    "galopp[\"Location\"].fillna(galopp[\"Location\"], inplace=True)\n",
    "galopp.drop(columns=[\"Category\", \"Class\"], inplace=True)\n",
    "\n",
    "galopp[\"Distance\"] = galopp[\"Distance\"].apply(lambda x: x.replace(\"m\", \"\"))\n",
    "galopp[\"Prize\"] = galopp[\"Prize\"].apply(lambda x: x.replace(\"€\", \"\"))\n",
    "\n",
    "galopp[\"Distance\"] = galopp[\"Distance\"].apply(lambda x: x.replace(\"\\xa0\", \"\"))\n",
    "galopp[\"Prize\"] = galopp[\"Prize\"].apply(lambda x: x.replace(\"\\xa0\", \"\"))\n",
    "\n",
    "galopp[\"Distance\"] = galopp[\"Distance\"].apply(lambda x: \"1\" if len(x) == 0 else x)\n",
    "galopp[\"Prize\"] = galopp[\"Prize\"].apply(lambda x: \"1\" if len(x) == 0 else x)\n",
    "\n",
    "galopp[\"Distance\"].astype(int)\n",
    "galopp[\"Prize\"].astype(int)\n",
    "\n",
    "galopp[\"Distance\"] = galopp[\"Distance\"].apply(lambda x: galopp[\"Distance\"].mode() if x == 1 else x)\n",
    "galopp[\"Prize\"] = galopp[\"Prize\"].apply(lambda x: galopp[\"Distance\"].mode() if x == 1 else x)\n",
    "\n",
    "galopp[\"Ground_state\"] = galopp[\"Ground_state\"].apply(lambda x: x.replace(\"Boden: \", \"\"))"
   ]
  },
  {
   "cell_type": "code",
   "execution_count": 7,
   "metadata": {},
   "outputs": [
    {
     "data": {
      "text/plain": [
       "array(['0', '6000', '6200', '5000', '8000', '6450', '5350', '4000',\n",
       "       '5600', '6400', '9000', '4800', '5100', '8500', '5200', '8750',\n",
       "       '10000', '3500', '3600', '4850', '4500', '2000', '3200', '2600',\n",
       "       '7000', '8200', '27000', '6500', '25000', '2200', '3100', '55000',\n",
       "       '5500', '3000', '2050', '5450', '9500', '12000', '4350', '3400',\n",
       "       '4200', '2500', '1600', '5550', '70000', '3800', '7500', '52000',\n",
       "       '22500', '10500', '2700', '8950', '153000', '6600', '3450',\n",
       "       '125000', '10400', '6100', '13500', '7700', '9250', '7200',\n",
       "       '35000', '10200', '15000', '16000', '3950', '7150', '8700', '9700',\n",
       "       '650000', '4444', '20000', '4644', '6666', '37000', '155000',\n",
       "       '6750', '500000', '5300', '45000', '50000', '175000', '4400',\n",
       "       '4600', '4250', '5750', '102500', '9750', '11000', '250000',\n",
       "       '12500', '6050', '4700', '85000', '200000', '8150', '105000',\n",
       "       '3350', '2800', '5950', '2850', '3150', '4550', '9400', '1800',\n",
       "       '5850', '6900', '18000', '6350', '4950', '4150', '75000', '7750',\n",
       "       '1', '5150', '3700', '6800', '13400', '9200', '14000', '5250',\n",
       "       '19500', '3750', '1200', '2100', '100000', '6650', '5700', '1700',\n",
       "       '2900', '7777', '3300', '17000', '1900', '2300', '21000', '6150',\n",
       "       '2400', '40000', '8400', '4080', '27500', '11250', '4650', '4750',\n",
       "       '76500', '4100', '8888', '62500', '8800', '77500', '17500', '6300',\n",
       "       '9800', '10250'], dtype=object)"
      ]
     },
     "execution_count": 7,
     "metadata": {},
     "output_type": "execute_result"
    }
   ],
   "source": [
    "galopp[\"Prize\"].unique()"
   ]
  },
  {
   "cell_type": "code",
   "execution_count": null,
   "metadata": {},
   "outputs": [],
   "source": []
  }
 ],
 "metadata": {
  "kernelspec": {
   "display_name": "Python 3",
   "language": "python",
   "name": "python3"
  },
  "language_info": {
   "codemirror_mode": {
    "name": "ipython",
    "version": 3
   },
   "file_extension": ".py",
   "mimetype": "text/x-python",
   "name": "python",
   "nbconvert_exporter": "python",
   "pygments_lexer": "ipython3",
   "version": "3.7.6"
  }
 },
 "nbformat": 4,
 "nbformat_minor": 4
}
