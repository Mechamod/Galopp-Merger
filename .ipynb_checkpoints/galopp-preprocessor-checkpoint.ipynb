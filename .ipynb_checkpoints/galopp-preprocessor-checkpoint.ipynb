{
 "cells": [
  {
   "cell_type": "markdown",
   "metadata": {},
   "source": [
    "# Galopp-Preprocessor\n",
    "\n",
    "For this step in the project I will use jupyter notebook, because it is way faster to visualize and more flexible on doin data preprocessing. (The exploratory data analysis part will also be with jupyter notebook)"
   ]
  },
  {
   "cell_type": "code",
   "execution_count": 1,
   "metadata": {},
   "outputs": [
    {
     "name": "stdout",
     "output_type": "stream",
     "text": [
      "Preprocessing...\n"
     ]
    }
   ],
   "source": [
    "print(\"Preprocessing...\")"
   ]
  },
  {
   "cell_type": "markdown",
   "metadata": {},
   "source": [
    "### Imports"
   ]
  },
  {
   "cell_type": "code",
   "execution_count": 2,
   "metadata": {},
   "outputs": [],
   "source": [
    "import pandas as pd\n",
    "import numpy as np"
   ]
  },
  {
   "cell_type": "markdown",
   "metadata": {},
   "source": [
    "### Load dataset"
   ]
  },
  {
   "cell_type": "code",
   "execution_count": 3,
   "metadata": {},
   "outputs": [
    {
     "data": {
      "text/html": [
       "<div>\n",
       "<style scoped>\n",
       "    .dataframe tbody tr th:only-of-type {\n",
       "        vertical-align: middle;\n",
       "    }\n",
       "\n",
       "    .dataframe tbody tr th {\n",
       "        vertical-align: top;\n",
       "    }\n",
       "\n",
       "    .dataframe thead th {\n",
       "        text-align: right;\n",
       "    }\n",
       "</style>\n",
       "<table border=\"1\" class=\"dataframe\">\n",
       "  <thead>\n",
       "    <tr style=\"text-align: right;\">\n",
       "      <th></th>\n",
       "      <th>Date</th>\n",
       "      <th>Location</th>\n",
       "      <th>Distance</th>\n",
       "      <th>Prize</th>\n",
       "      <th>Category</th>\n",
       "      <th>Class</th>\n",
       "      <th>Ground_state</th>\n",
       "      <th>Horses</th>\n",
       "      <th>Unnamed: 8</th>\n",
       "      <th>m</th>\n",
       "      <th>€</th>\n",
       "      <th>Unnamed: 11</th>\n",
       "      <th>Unnamed: 12</th>\n",
       "      <th>Boden:</th>\n",
       "      <th>[]</th>\n",
       "    </tr>\n",
       "  </thead>\n",
       "  <tbody>\n",
       "    <tr>\n",
       "      <th>3590</th>\n",
       "      <td>17. November 2015</td>\n",
       "      <td>Neuss (Sand)</td>\n",
       "      <td>1500 m</td>\n",
       "      <td>5000 €</td>\n",
       "      <td>D</td>\n",
       "      <td>3yo</td>\n",
       "      <td>Boden: nass              ...</td>\n",
       "      <td>['                   1.             ', ' Bellc...</td>\n",
       "      <td>NaN</td>\n",
       "      <td>NaN</td>\n",
       "      <td>NaN</td>\n",
       "      <td>NaN</td>\n",
       "      <td>NaN</td>\n",
       "      <td>NaN</td>\n",
       "      <td>NaN</td>\n",
       "    </tr>\n",
       "    <tr>\n",
       "      <th>4748</th>\n",
       "      <td>22. Oktober 2016</td>\n",
       "      <td>Dresden</td>\n",
       "      <td>2000 m</td>\n",
       "      <td>5100 €</td>\n",
       "      <td>D</td>\n",
       "      <td>NaN</td>\n",
       "      <td>Boden: weich             ...</td>\n",
       "      <td>['                   1.             ', ' Joker...</td>\n",
       "      <td>NaN</td>\n",
       "      <td>NaN</td>\n",
       "      <td>NaN</td>\n",
       "      <td>NaN</td>\n",
       "      <td>NaN</td>\n",
       "      <td>NaN</td>\n",
       "      <td>NaN</td>\n",
       "    </tr>\n",
       "    <tr>\n",
       "      <th>411</th>\n",
       "      <td>12. Juni 2013</td>\n",
       "      <td>Düsseldorf</td>\n",
       "      <td>2100 m</td>\n",
       "      <td>0 €</td>\n",
       "      <td>NaN</td>\n",
       "      <td>NaN</td>\n",
       "      <td>Boden: gut</td>\n",
       "      <td>['                   1.             ', ' Sarin...</td>\n",
       "      <td>NaN</td>\n",
       "      <td>NaN</td>\n",
       "      <td>NaN</td>\n",
       "      <td>NaN</td>\n",
       "      <td>NaN</td>\n",
       "      <td>NaN</td>\n",
       "      <td>NaN</td>\n",
       "    </tr>\n",
       "    <tr>\n",
       "      <th>7604</th>\n",
       "      <td>01. Juni 2019</td>\n",
       "      <td>Baden-Baden</td>\n",
       "      <td>2200 m</td>\n",
       "      <td>8000 €</td>\n",
       "      <td>F</td>\n",
       "      <td>IV</td>\n",
       "      <td>Boden: gut</td>\n",
       "      <td>['                   1.             ', ' Lavel...</td>\n",
       "      <td>NaN</td>\n",
       "      <td>NaN</td>\n",
       "      <td>NaN</td>\n",
       "      <td>NaN</td>\n",
       "      <td>NaN</td>\n",
       "      <td>NaN</td>\n",
       "      <td>NaN</td>\n",
       "    </tr>\n",
       "    <tr>\n",
       "      <th>1727</th>\n",
       "      <td>27. Juli 2014</td>\n",
       "      <td>Bad Harzburg</td>\n",
       "      <td>1550 m</td>\n",
       "      <td>0 €</td>\n",
       "      <td>NaN</td>\n",
       "      <td>NaN</td>\n",
       "      <td>Boden: weich             ...</td>\n",
       "      <td>['                   1.             ', ' Bear ...</td>\n",
       "      <td>NaN</td>\n",
       "      <td>NaN</td>\n",
       "      <td>NaN</td>\n",
       "      <td>NaN</td>\n",
       "      <td>NaN</td>\n",
       "      <td>NaN</td>\n",
       "      <td>NaN</td>\n",
       "    </tr>\n",
       "  </tbody>\n",
       "</table>\n",
       "</div>"
      ],
      "text/plain": [
       "                                               Date  \\\n",
       "3590                 17. November 2015                \n",
       "4748                  22. Oktober 2016                \n",
       "411                      12. Juni 2013                \n",
       "7604                     01. Juni 2019                \n",
       "1727                     27. Juli 2014                \n",
       "\n",
       "                                    Location  Distance     Prize Category  \\\n",
       "3590                Neuss (Sand)              1500 m      5000 €        D   \n",
       "4748                     Dresden              2000 m      5100 €        D   \n",
       "411                   Düsseldorf              2100 m         0 €      NaN   \n",
       "7604                 Baden-Baden              2200 m      8000 €        F   \n",
       "1727                Bad Harzburg              1550 m         0 €      NaN   \n",
       "\n",
       "     Class                                       Ground_state  \\\n",
       "3590   3yo                       Boden: nass              ...   \n",
       "4748   NaN                       Boden: weich             ...   \n",
       "411    NaN                       Boden: gut                     \n",
       "7604   IV                        Boden: gut                     \n",
       "1727   NaN                       Boden: weich             ...   \n",
       "\n",
       "                                                 Horses  Unnamed: 8   m    \\\n",
       "3590  ['                   1.             ', ' Bellc...         NaN   NaN   \n",
       "4748  ['                   1.             ', ' Joker...         NaN   NaN   \n",
       "411   ['                   1.             ', ' Sarin...         NaN   NaN   \n",
       "7604  ['                   1.             ', ' Lavel...         NaN   NaN   \n",
       "1727  ['                   1.             ', ' Bear ...         NaN   NaN   \n",
       "\n",
       "         €  Unnamed: 11  Unnamed: 12  \\\n",
       "3590   NaN          NaN          NaN   \n",
       "4748   NaN          NaN          NaN   \n",
       "411    NaN          NaN          NaN   \n",
       "7604   NaN          NaN          NaN   \n",
       "1727   NaN          NaN          NaN   \n",
       "\n",
       "                           Boden:                     []  \n",
       "3590                                             NaN NaN  \n",
       "4748                                             NaN NaN  \n",
       "411                                              NaN NaN  \n",
       "7604                                             NaN NaN  \n",
       "1727                                             NaN NaN  "
      ]
     },
     "execution_count": 3,
     "metadata": {},
     "output_type": "execute_result"
    }
   ],
   "source": [
    "galopp = pd.read_csv(\"csvs/all_races.csv\")\n",
    "galopp.sample(5)"
   ]
  },
  {
   "cell_type": "markdown",
   "metadata": {},
   "source": [
    "### Look at general information"
   ]
  },
  {
   "cell_type": "code",
   "execution_count": 4,
   "metadata": {},
   "outputs": [
    {
     "data": {
      "text/plain": [
       "Index(['Date', 'Location', 'Distance', 'Prize', 'Category', 'Class',\n",
       "       'Ground_state', 'Horses', 'Unnamed: 8', ' m  ', '   €', 'Unnamed: 11',\n",
       "       'Unnamed: 12', '                     Boden:                   ', '[]'],\n",
       "      dtype='object')"
      ]
     },
     "execution_count": 4,
     "metadata": {},
     "output_type": "execute_result"
    }
   ],
   "source": [
    "galopp.columns"
   ]
  },
  {
   "cell_type": "code",
   "execution_count": 5,
   "metadata": {},
   "outputs": [
    {
     "name": "stdout",
     "output_type": "stream",
     "text": [
      "Date                                                15\n",
      "Location                                            15\n",
      "Distance                                             0\n",
      "Prize                                                0\n",
      "Category                                          3115\n",
      "Class                                             4245\n",
      "Ground_state                                         0\n",
      "Horses                                               0\n",
      "Unnamed: 8                                        9218\n",
      " m                                                9218\n",
      "   €                                              9218\n",
      "Unnamed: 11                                       9218\n",
      "Unnamed: 12                                       9218\n",
      "                     Boden:                       9218\n",
      "[]                                                9218\n",
      "dtype: int64\n",
      "\n",
      "Date                                                0.162725\n",
      "Location                                            0.162725\n",
      "Distance                                            0.000000\n",
      "Prize                                               0.000000\n",
      "Category                                           33.792580\n",
      "Class                                              46.051204\n",
      "Ground_state                                        0.000000\n",
      "Horses                                              0.000000\n",
      "Unnamed: 8                                        100.000000\n",
      " m                                                100.000000\n",
      "   €                                              100.000000\n",
      "Unnamed: 11                                       100.000000\n",
      "Unnamed: 12                                       100.000000\n",
      "                     Boden:                       100.000000\n",
      "[]                                                100.000000\n",
      "dtype: float64\n"
     ]
    }
   ],
   "source": [
    "print(galopp.isna().sum())\n",
    "print(\"\")\n",
    "print(galopp.isna().sum()/len(galopp)*100)"
   ]
  },
  {
   "cell_type": "code",
   "execution_count": 6,
   "metadata": {},
   "outputs": [
    {
     "name": "stdout",
     "output_type": "stream",
     "text": [
      "<class 'pandas.core.frame.DataFrame'>\n",
      "RangeIndex: 9218 entries, 0 to 9217\n",
      "Data columns (total 15 columns):\n",
      " #   Column                                          Non-Null Count  Dtype  \n",
      "---  ------                                          --------------  -----  \n",
      " 0   Date                                            9203 non-null   object \n",
      " 1   Location                                        9203 non-null   object \n",
      " 2   Distance                                        9218 non-null   object \n",
      " 3   Prize                                           9218 non-null   object \n",
      " 4   Category                                        6103 non-null   object \n",
      " 5   Class                                           4973 non-null   object \n",
      " 6   Ground_state                                    9218 non-null   object \n",
      " 7   Horses                                          9218 non-null   object \n",
      " 8   Unnamed: 8                                      0 non-null      float64\n",
      " 9    m                                              0 non-null      float64\n",
      " 10     €                                            0 non-null      float64\n",
      " 11  Unnamed: 11                                     0 non-null      float64\n",
      " 12  Unnamed: 12                                     0 non-null      float64\n",
      " 13                       Boden:                     0 non-null      float64\n",
      " 14  []                                              0 non-null      float64\n",
      "dtypes: float64(7), object(8)\n",
      "memory usage: 1.1+ MB\n"
     ]
    }
   ],
   "source": [
    "galopp.info()"
   ]
  },
  {
   "cell_type": "markdown",
   "metadata": {},
   "source": [
    "First thing I see is that there are some NaN values. 15 each on _Date_ and _Location_ (which are only 0.16% of the whole set). Because only a few are missing, and they are not really important to my goal, I fill them with the mode (normally not really applicable for the _Date_ , but it should be sufficient).\n",
    "\n",
    "Also, the columns 'Category' and 'Class' are missing 3115 and 4245, which are ~33% and ~46%. Normally, because they are categorical, they could be filled with the mode, but so many values are missing, so I decide to drop them, as they are not important for my goal.\n",
    "\n",
    "Next, the datatypes should be changed for _Distance_ and _Prize_ to int. But before that, the 'm' in _Distance_ and the '€' in _Prize_ have to be removed. (Also, there are '\\xa0's in both columns for each entry! These have to be removed too before converting to int.). And, at last, fill the empty strings with a 0, otherwise this would lead to ValueErrors when converting to int.\n",
    "\n",
    "The _Ground_state_ always contains the prefix 'Boden: ', this can also be removed."
   ]
  },
  {
   "cell_type": "code",
   "execution_count": 7,
   "metadata": {},
   "outputs": [],
   "source": [
    "# Fill dates and location by \n",
    "galopp[\"Date\"].fillna(galopp[\"Date\"].mode(), inplace=True)\n",
    "galopp[\"Location\"].fillna(galopp[\"Location\"].mode(), inplace=True)\n",
    "\n",
    "# Remove units\n",
    "galopp[\"Distance\"] = galopp[\"Distance\"].apply(lambda x: x.replace(\"m\", \"\"))\n",
    "galopp[\"Prize\"] = galopp[\"Prize\"].apply(lambda x: x.replace(\"€\", \"\"))\n",
    "\n",
    "# Remove bytes\n",
    "galopp[\"Distance\"] = galopp[\"Distance\"].apply(lambda x: x.replace(\"\\xa0\", \"\"))\n",
    "galopp[\"Prize\"] = galopp[\"Prize\"].apply(lambda x: x.replace(\"\\xa0\", \"\"))\n",
    "\n",
    "# Fill empty strings with 0\n",
    "galopp[\"Distance\"] = galopp[\"Distance\"].apply(lambda x: \"0\" if len(x) == 0 else x)\n",
    "galopp[\"Prize\"] = galopp[\"Prize\"].apply(lambda x: \"0\" if len(x) == 0 else x)\n",
    "\n",
    "# Change datatype to int\n",
    "galopp[\"Distance\"] = galopp[\"Distance\"].astype(int)\n",
    "galopp[\"Prize\"] = galopp[\"Prize\"].astype(int)\n",
    "\n",
    "# Remove 'Boden: ' prefix\n",
    "galopp[\"Ground_state\"] = galopp[\"Ground_state\"].apply(lambda x: x.replace(\"Boden: \", \"\"))\n",
    "galopp[\"Ground_state\"] = galopp[\"Ground_state\"].apply(lambda x: x.strip())\n",
    "\n",
    "# Drop columns\n",
    "galopp.drop(columns=[\"Category\", \"Class\"], inplace=True)\n",
    "galopp.dropna(axis=1, inplace=True)"
   ]
  },
  {
   "cell_type": "markdown",
   "metadata": {},
   "source": [
    "Looking at the dataframe again:"
   ]
  },
  {
   "cell_type": "code",
   "execution_count": 8,
   "metadata": {},
   "outputs": [
    {
     "name": "stdout",
     "output_type": "stream",
     "text": [
      "<class 'pandas.core.frame.DataFrame'>\n",
      "RangeIndex: 9218 entries, 0 to 9217\n",
      "Data columns (total 4 columns):\n",
      " #   Column        Non-Null Count  Dtype \n",
      "---  ------        --------------  ----- \n",
      " 0   Distance      9218 non-null   int64 \n",
      " 1   Prize         9218 non-null   int64 \n",
      " 2   Ground_state  9218 non-null   object\n",
      " 3   Horses        9218 non-null   object\n",
      "dtypes: int64(2), object(2)\n",
      "memory usage: 288.2+ KB\n"
     ]
    }
   ],
   "source": [
    "galopp.info()"
   ]
  },
  {
   "cell_type": "code",
   "execution_count": 9,
   "metadata": {},
   "outputs": [
    {
     "data": {
      "text/html": [
       "<div>\n",
       "<style scoped>\n",
       "    .dataframe tbody tr th:only-of-type {\n",
       "        vertical-align: middle;\n",
       "    }\n",
       "\n",
       "    .dataframe tbody tr th {\n",
       "        vertical-align: top;\n",
       "    }\n",
       "\n",
       "    .dataframe thead th {\n",
       "        text-align: right;\n",
       "    }\n",
       "</style>\n",
       "<table border=\"1\" class=\"dataframe\">\n",
       "  <thead>\n",
       "    <tr style=\"text-align: right;\">\n",
       "      <th></th>\n",
       "      <th>Distance</th>\n",
       "      <th>Prize</th>\n",
       "      <th>Ground_state</th>\n",
       "      <th>Horses</th>\n",
       "    </tr>\n",
       "  </thead>\n",
       "  <tbody>\n",
       "    <tr>\n",
       "      <th>7119</th>\n",
       "      <td>1200</td>\n",
       "      <td>6350</td>\n",
       "      <td>gut</td>\n",
       "      <td>['                   1.             ', ' Magic...</td>\n",
       "    </tr>\n",
       "    <tr>\n",
       "      <th>5</th>\n",
       "      <td>1500</td>\n",
       "      <td>0</td>\n",
       "      <td>nass</td>\n",
       "      <td>['                   1.             ', ' Rabia...</td>\n",
       "    </tr>\n",
       "    <tr>\n",
       "      <th>3139</th>\n",
       "      <td>1600</td>\n",
       "      <td>50000</td>\n",
       "      <td>gut</td>\n",
       "      <td>['                   1.             ', ' Drumm...</td>\n",
       "    </tr>\n",
       "    <tr>\n",
       "      <th>8190</th>\n",
       "      <td>1400</td>\n",
       "      <td>9500</td>\n",
       "      <td>gut bis weich</td>\n",
       "      <td>['                   1.             ', ' Diary...</td>\n",
       "    </tr>\n",
       "    <tr>\n",
       "      <th>577</th>\n",
       "      <td>1600</td>\n",
       "      <td>0</td>\n",
       "      <td>g-w</td>\n",
       "      <td>['                   1.             ', ' Krasi...</td>\n",
       "    </tr>\n",
       "    <tr>\n",
       "      <th>7149</th>\n",
       "      <td>1550</td>\n",
       "      <td>3500</td>\n",
       "      <td>gut</td>\n",
       "      <td>['                   1.             ', ' Macan...</td>\n",
       "    </tr>\n",
       "    <tr>\n",
       "      <th>6797</th>\n",
       "      <td>2400</td>\n",
       "      <td>12500</td>\n",
       "      <td>gut</td>\n",
       "      <td>['                   1.             ', ' Atlan...</td>\n",
       "    </tr>\n",
       "    <tr>\n",
       "      <th>4179</th>\n",
       "      <td>1200</td>\n",
       "      <td>2500</td>\n",
       "      <td>gut</td>\n",
       "      <td>['                   1.             ', ' Jacko...</td>\n",
       "    </tr>\n",
       "    <tr>\n",
       "      <th>7628</th>\n",
       "      <td>2800</td>\n",
       "      <td>4000</td>\n",
       "      <td>gut</td>\n",
       "      <td>['                   1.             ', ' Indar...</td>\n",
       "    </tr>\n",
       "    <tr>\n",
       "      <th>3109</th>\n",
       "      <td>1700</td>\n",
       "      <td>9000</td>\n",
       "      <td>gut</td>\n",
       "      <td>['                   1.             ', ' Elmar...</td>\n",
       "    </tr>\n",
       "  </tbody>\n",
       "</table>\n",
       "</div>"
      ],
      "text/plain": [
       "      Distance  Prize   Ground_state  \\\n",
       "7119      1200   6350            gut   \n",
       "5         1500      0           nass   \n",
       "3139      1600  50000            gut   \n",
       "8190      1400   9500  gut bis weich   \n",
       "577       1600      0            g-w   \n",
       "7149      1550   3500            gut   \n",
       "6797      2400  12500            gut   \n",
       "4179      1200   2500            gut   \n",
       "7628      2800   4000            gut   \n",
       "3109      1700   9000            gut   \n",
       "\n",
       "                                                 Horses  \n",
       "7119  ['                   1.             ', ' Magic...  \n",
       "5     ['                   1.             ', ' Rabia...  \n",
       "3139  ['                   1.             ', ' Drumm...  \n",
       "8190  ['                   1.             ', ' Diary...  \n",
       "577   ['                   1.             ', ' Krasi...  \n",
       "7149  ['                   1.             ', ' Macan...  \n",
       "6797  ['                   1.             ', ' Atlan...  \n",
       "4179  ['                   1.             ', ' Jacko...  \n",
       "7628  ['                   1.             ', ' Indar...  \n",
       "3109  ['                   1.             ', ' Elmar...  "
      ]
     },
     "execution_count": 9,
     "metadata": {},
     "output_type": "execute_result"
    }
   ],
   "source": [
    "galopp.sample(10)"
   ]
  },
  {
   "cell_type": "markdown",
   "metadata": {},
   "source": [
    "No NaNs and the fitting datatype, also the samples looking good aswell.\n",
    "So for those columns everything that needs to be done is done. Lets go on with the horses per race. For this, I intend to:\n",
    "- get the list of horses and make another dataframe of it\n",
    "- Clean this dataset (No column names and datatypes here)\n",
    "- Return the cleaned dataframe as a list and replace it\n",
    "- Save each horse participation in another dataframe / csv"
   ]
  },
  {
   "cell_type": "markdown",
   "metadata": {},
   "source": [
    "### Clean races and generate a participants dataframe"
   ]
  },
  {
   "cell_type": "code",
   "execution_count": 10,
   "metadata": {},
   "outputs": [],
   "source": [
    "def clean_placement_string(x):\n",
    "    \n",
    "    if \"NS\" in x: # Treat \"Nichtstarter\", horses who didn't start the race\n",
    "        x = -1\n",
    "    else:\n",
    "        x = x.replace(\".\",\"\")\n",
    "        x = x.replace(\"'\",\"\")\n",
    "        x = x.replace(\"[\",\"\")\n",
    "        x = x.replace(\"]\", \"\")\n",
    "        x = x.strip()\n",
    "    \n",
    "    return x\n",
    "\n",
    "def clean_horse_name_string(x):\n",
    "    x = x.replace(\"'\", \"\")\n",
    "    x = x.strip()\n",
    "    x = x.lower()\n",
    "    return x\n",
    "\n",
    "def clean_jockey_name_string(x):\n",
    "    x = x.replace(\"'\", \"\")\n",
    "    x = x.strip()\n",
    "    x = x.lower()\n",
    "    \n",
    "    if \".\" in x:\n",
    "        while \".\" in x:\n",
    "            x = x[x.index(\".\", )+1:] # Get surname by dot\n",
    "    elif len(x.split()) == 2:\n",
    "        x = x.split()[1]  # Get surname when both names are in the name string\n",
    "    else:\n",
    "        pass\n",
    "    \n",
    "    return x\n",
    "\n",
    "def clean_trainer_name_string(x):\n",
    "    x = x.replace(\"'\", \"\")\n",
    "    x = x.strip()\n",
    "    x = x.lower()\n",
    "    \n",
    "    if \".\" in x:\n",
    "        while \".\" in x:\n",
    "            x = x[x.index(\".\", )+1:] # Get surname by dot\n",
    "    elif len(x.split()) == 2:\n",
    "        x = x.split()[1]  # Get surname when both names are in the name string\n",
    "    else:\n",
    "        x=x\n",
    "    \n",
    "    return x\n",
    "\n",
    "def clean_weight_string(x):\n",
    "    x = x.replace(\"'\", \"\")\n",
    "    x = x.replace(\",\",\".\")\n",
    "    x = x.replace(\"]\", \"\")\n",
    "    x = x.strip()\n",
    "    return x"
   ]
  },
  {
   "cell_type": "code",
   "execution_count": 11,
   "metadata": {},
   "outputs": [],
   "source": [
    "# Load, clean, and replace each race\n",
    "races = []\n",
    "horses = []\n",
    "columns = [\"Place\", \"Horse_name\", \"Jockey_name\", \"Trainer_name\", \"Weight\"]\n",
    "\n",
    "for index in range(len(galopp)):\n",
    "    \n",
    "    row = galopp.iloc[index, -1:]\n",
    "    # Load row as a seperate dataset and make it a dataframe for easier editing\n",
    "    split = row[\"Horses\"].split(\", \")\n",
    "    try:\n",
    "        row_reshaped = np.array(split).reshape((-1, 5))\n",
    "        race_df = pd.DataFrame(data=row_reshaped, columns=columns)\n",
    "        # Clean dataset (and save a version with the races)\n",
    "        race_df[\"Place\"] = race_df[\"Place\"].apply(clean_placement_string)\n",
    "        race_df[\"Horse_name\"] = race_df[\"Horse_name\"].apply(clean_horse_name_string)\n",
    "        race_df[\"Jockey_name\"] = race_df[\"Jockey_name\"].apply(clean_jockey_name_string)\n",
    "        race_df[\"Trainer_name\"] = race_df[\"Trainer_name\"].apply(clean_trainer_name_string)\n",
    "        race_df[\"Weight\"] = race_df[\"Weight\"].apply(clean_weight_string)\n",
    "        \n",
    "        #Get normal informatio of the race\n",
    "        race_info = galopp.iloc[index, :3]\n",
    "        \n",
    "        # Add each participant and info about the race itself to a list\n",
    "        for index_2 in range(len(race_df)):\n",
    "            cleaned_horses.append()\n",
    "            horses.append(pd.concat([race_df.iloc[index_2], race_info], axis=0).values)\n",
    "\n",
    "        # Add the whole race to a list\n",
    "        #races.append(galopp.iloc[index, :].tolist())\n",
    "        # TODO TODO TODO\n",
    "        \n",
    "    except:\n",
    "        races.append(\"DELETE THIS ROW\") # Some rows just dont fit... delete the rows afterwards!\n",
    "    \n",
    "# Save participations for further inspection\n",
    "all_participations_df = pd.DataFrame(data=horses, columns=columns+[\"Distance\", \"Prize\", \"Ground_state\"])\n",
    "all_participations_df.to_csv(\"csvs/participations.csv\", index=False)"
   ]
  },
  {
   "cell_type": "code",
   "execution_count": 13,
   "metadata": {},
   "outputs": [
    {
     "name": "stderr",
     "output_type": "stream",
     "text": [
      "<ipython-input-13-9d9967a721ce>:2: VisibleDeprecationWarning: Creating an ndarray from ragged nested sequences (which is a list-or-tuple of lists-or-tuples-or ndarrays with different lengths or shapes) is deprecated. If you meant to do this, you must specify 'dtype=object' when creating the ndarray\n",
      "  galopp = pd.DataFrame(np.array(races).reshape((9218, 4)), columns=[\"Distance\", \"Prize\", \"Ground_state\", \"Horses\"])\n"
     ]
    },
    {
     "ename": "ValueError",
     "evalue": "cannot reshape array of size 9218 into shape (9218,4)",
     "output_type": "error",
     "traceback": [
      "\u001b[0;31m---------------------------------------------------------------------------\u001b[0m",
      "\u001b[0;31mValueError\u001b[0m                                Traceback (most recent call last)",
      "\u001b[0;32m<ipython-input-13-9d9967a721ce>\u001b[0m in \u001b[0;36m<module>\u001b[0;34m\u001b[0m\n\u001b[1;32m      1\u001b[0m \u001b[0;31m# Replace the cleaned races with the old races in the dataframe\u001b[0m\u001b[0;34m\u001b[0m\u001b[0;34m\u001b[0m\u001b[0;34m\u001b[0m\u001b[0m\n\u001b[0;32m----> 2\u001b[0;31m \u001b[0mgalopp\u001b[0m \u001b[0;34m=\u001b[0m \u001b[0mpd\u001b[0m\u001b[0;34m.\u001b[0m\u001b[0mDataFrame\u001b[0m\u001b[0;34m(\u001b[0m\u001b[0mnp\u001b[0m\u001b[0;34m.\u001b[0m\u001b[0marray\u001b[0m\u001b[0;34m(\u001b[0m\u001b[0mraces\u001b[0m\u001b[0;34m)\u001b[0m\u001b[0;34m.\u001b[0m\u001b[0mreshape\u001b[0m\u001b[0;34m(\u001b[0m\u001b[0;34m(\u001b[0m\u001b[0;36m9218\u001b[0m\u001b[0;34m,\u001b[0m \u001b[0;36m4\u001b[0m\u001b[0;34m)\u001b[0m\u001b[0;34m)\u001b[0m\u001b[0;34m,\u001b[0m \u001b[0mcolumns\u001b[0m\u001b[0;34m=\u001b[0m\u001b[0;34m[\u001b[0m\u001b[0;34m\"Distance\"\u001b[0m\u001b[0;34m,\u001b[0m \u001b[0;34m\"Prize\"\u001b[0m\u001b[0;34m,\u001b[0m \u001b[0;34m\"Ground_state\"\u001b[0m\u001b[0;34m,\u001b[0m \u001b[0;34m\"Horses\"\u001b[0m\u001b[0;34m]\u001b[0m\u001b[0;34m)\u001b[0m\u001b[0;34m\u001b[0m\u001b[0;34m\u001b[0m\u001b[0m\n\u001b[0m\u001b[1;32m      3\u001b[0m \u001b[0mgalopp\u001b[0m\u001b[0;34m.\u001b[0m\u001b[0mto_csv\u001b[0m\u001b[0;34m(\u001b[0m\u001b[0;34m\"csvs/galopp_cleaned.csv\"\u001b[0m\u001b[0;34m,\u001b[0m \u001b[0mindex\u001b[0m\u001b[0;34m=\u001b[0m\u001b[0;32mFalse\u001b[0m\u001b[0;34m)\u001b[0m\u001b[0;34m\u001b[0m\u001b[0;34m\u001b[0m\u001b[0m\n",
      "\u001b[0;31mValueError\u001b[0m: cannot reshape array of size 9218 into shape (9218,4)"
     ]
    }
   ],
   "source": [
    "# Replace the cleaned races with the old races in the dataframe\n",
    "#galopp = pd.DataFrame(np.array(races).reshape((9218, 4)), columns=[\"Distance\", \"Prize\", \"Ground_state\", \"Horses\"])\n",
    "#galopp.to_csv(\"csvs/galopp_cleaned.csv\", index=False)"
   ]
  },
  {
   "cell_type": "code",
   "execution_count": null,
   "metadata": {},
   "outputs": [],
   "source": []
  }
 ],
 "metadata": {
  "kernelspec": {
   "display_name": "Python 3",
   "language": "python",
   "name": "python3"
  },
  "language_info": {
   "codemirror_mode": {
    "name": "ipython",
    "version": 3
   },
   "file_extension": ".py",
   "mimetype": "text/x-python",
   "name": "python",
   "nbconvert_exporter": "python",
   "pygments_lexer": "ipython3",
   "version": "3.8.5"
  }
 },
 "nbformat": 4,
 "nbformat_minor": 4
}
