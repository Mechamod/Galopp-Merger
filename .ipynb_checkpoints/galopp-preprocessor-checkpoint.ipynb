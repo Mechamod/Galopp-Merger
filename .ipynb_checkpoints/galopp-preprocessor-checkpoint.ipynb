{
 "cells": [
  {
   "cell_type": "markdown",
   "metadata": {},
   "source": [
    "# Galopp-Preprocessor\n",
    "\n",
    "For this step in the project I will use jupyter notebook, because it is way faster to visualize and more flexible on doin data preprocessing. (The exploratory data analysis part will also be with jupyter notebook)"
   ]
  },
  {
   "cell_type": "markdown",
   "metadata": {},
   "source": [
    "### Imports"
   ]
  },
  {
   "cell_type": "code",
   "execution_count": 1,
   "metadata": {},
   "outputs": [],
   "source": [
    "import pandas as pd\n",
    "import numpy as np"
   ]
  },
  {
   "cell_type": "markdown",
   "metadata": {},
   "source": [
    "### Load dataset"
   ]
  },
  {
   "cell_type": "code",
   "execution_count": 2,
   "metadata": {},
   "outputs": [
    {
     "data": {
      "text/html": [
       "<div>\n",
       "<style scoped>\n",
       "    .dataframe tbody tr th:only-of-type {\n",
       "        vertical-align: middle;\n",
       "    }\n",
       "\n",
       "    .dataframe tbody tr th {\n",
       "        vertical-align: top;\n",
       "    }\n",
       "\n",
       "    .dataframe thead th {\n",
       "        text-align: right;\n",
       "    }\n",
       "</style>\n",
       "<table border=\"1\" class=\"dataframe\">\n",
       "  <thead>\n",
       "    <tr style=\"text-align: right;\">\n",
       "      <th></th>\n",
       "      <th>Date</th>\n",
       "      <th>Location</th>\n",
       "      <th>Distance</th>\n",
       "      <th>Prize</th>\n",
       "      <th>Category</th>\n",
       "      <th>Class</th>\n",
       "      <th>Ground_state</th>\n",
       "      <th>Horses</th>\n",
       "    </tr>\n",
       "  </thead>\n",
       "  <tbody>\n",
       "    <tr>\n",
       "      <th>4287</th>\n",
       "      <td>06. Juli 2016</td>\n",
       "      <td>Hamburg</td>\n",
       "      <td>2000 m</td>\n",
       "      <td>8000 €</td>\n",
       "      <td>F</td>\n",
       "      <td>IV</td>\n",
       "      <td>Boden: schwer            ...</td>\n",
       "      <td>['                   1.             ', ' Elea ...</td>\n",
       "    </tr>\n",
       "    <tr>\n",
       "      <th>4614</th>\n",
       "      <td>17. September 2016</td>\n",
       "      <td>Hoppegarten</td>\n",
       "      <td>1400 m</td>\n",
       "      <td>52000 €</td>\n",
       "      <td>C</td>\n",
       "      <td>3yo</td>\n",
       "      <td>Boden: gut</td>\n",
       "      <td>['                   1.             ', ' Atlan...</td>\n",
       "    </tr>\n",
       "    <tr>\n",
       "      <th>3512</th>\n",
       "      <td>25. Oktober 2015</td>\n",
       "      <td>Hannover</td>\n",
       "      <td>1600 m</td>\n",
       "      <td>5100 €</td>\n",
       "      <td>D</td>\n",
       "      <td>2yo</td>\n",
       "      <td>Boden: weich             ...</td>\n",
       "      <td>['                   1.             ', ' Wild ...</td>\n",
       "    </tr>\n",
       "    <tr>\n",
       "      <th>6965</th>\n",
       "      <td>15. September 2018</td>\n",
       "      <td>Mülheim</td>\n",
       "      <td>2100 m</td>\n",
       "      <td>5100 €</td>\n",
       "      <td>D</td>\n",
       "      <td>III</td>\n",
       "      <td>Boden: gut</td>\n",
       "      <td>['                   1.             ', ' Valdu...</td>\n",
       "    </tr>\n",
       "    <tr>\n",
       "      <th>6615</th>\n",
       "      <td>04. Juli 2018</td>\n",
       "      <td>Hamburg</td>\n",
       "      <td>2400 m</td>\n",
       "      <td>8000 €</td>\n",
       "      <td>F</td>\n",
       "      <td>IV</td>\n",
       "      <td>Boden: gut</td>\n",
       "      <td>['                   1.             ', ' Melos...</td>\n",
       "    </tr>\n",
       "  </tbody>\n",
       "</table>\n",
       "</div>"
      ],
      "text/plain": [
       "                                                Date  \\\n",
       "4287                      06. Juli 2016                \n",
       "4614                 17. September 2016                \n",
       "3512                   25. Oktober 2015                \n",
       "6965                 15. September 2018                \n",
       "6615                      04. Juli 2018                \n",
       "\n",
       "                                   Location  Distance      Prize Category  \\\n",
       "4287                    Hamburg              2000 m       8000 €        F   \n",
       "4614                Hoppegarten              1400 m      52000 €        C   \n",
       "3512                   Hannover              1600 m       5100 €        D   \n",
       "6965                    Mülheim              2100 m       5100 €        D   \n",
       "6615                    Hamburg              2400 m       8000 €        F   \n",
       "\n",
       "     Class                                       Ground_state  \\\n",
       "4287    IV                       Boden: schwer            ...   \n",
       "4614   3yo                       Boden: gut                     \n",
       "3512   2yo                       Boden: weich             ...   \n",
       "6965   III                       Boden: gut                     \n",
       "6615    IV                       Boden: gut                     \n",
       "\n",
       "                                                 Horses  \n",
       "4287  ['                   1.             ', ' Elea ...  \n",
       "4614  ['                   1.             ', ' Atlan...  \n",
       "3512  ['                   1.             ', ' Wild ...  \n",
       "6965  ['                   1.             ', ' Valdu...  \n",
       "6615  ['                   1.             ', ' Melos...  "
      ]
     },
     "execution_count": 2,
     "metadata": {},
     "output_type": "execute_result"
    }
   ],
   "source": [
    "galopp = pd.read_csv(\"all_races.csv\")\n",
    "galopp.sample(5)"
   ]
  },
  {
   "cell_type": "markdown",
   "metadata": {},
   "source": [
    "### Look at general information"
   ]
  },
  {
   "cell_type": "code",
   "execution_count": 3,
   "metadata": {},
   "outputs": [
    {
     "data": {
      "text/plain": [
       "Index(['Date', 'Location', 'Distance', 'Prize', 'Category', 'Class',\n",
       "       'Ground_state', 'Horses'],\n",
       "      dtype='object')"
      ]
     },
     "execution_count": 3,
     "metadata": {},
     "output_type": "execute_result"
    }
   ],
   "source": [
    "galopp.columns"
   ]
  },
  {
   "cell_type": "code",
   "execution_count": 4,
   "metadata": {},
   "outputs": [
    {
     "name": "stdout",
     "output_type": "stream",
     "text": [
      "Date              15\n",
      "Location          15\n",
      "Distance           0\n",
      "Prize              0\n",
      "Category        3115\n",
      "Class           4245\n",
      "Ground_state       0\n",
      "Horses             0\n",
      "dtype: int64\n",
      "\n",
      "Date             0.162725\n",
      "Location         0.162725\n",
      "Distance         0.000000\n",
      "Prize            0.000000\n",
      "Category        33.792580\n",
      "Class           46.051204\n",
      "Ground_state     0.000000\n",
      "Horses           0.000000\n",
      "dtype: float64\n"
     ]
    }
   ],
   "source": [
    "print(galopp.isna().sum())\n",
    "print(\"\")\n",
    "print(galopp.isna().sum()/len(galopp)*100)"
   ]
  },
  {
   "cell_type": "code",
   "execution_count": 5,
   "metadata": {},
   "outputs": [
    {
     "name": "stdout",
     "output_type": "stream",
     "text": [
      "<class 'pandas.core.frame.DataFrame'>\n",
      "RangeIndex: 9218 entries, 0 to 9217\n",
      "Data columns (total 8 columns):\n",
      " #   Column        Non-Null Count  Dtype \n",
      "---  ------        --------------  ----- \n",
      " 0   Date          9203 non-null   object\n",
      " 1   Location      9203 non-null   object\n",
      " 2   Distance      9218 non-null   object\n",
      " 3   Prize         9218 non-null   object\n",
      " 4   Category      6103 non-null   object\n",
      " 5   Class         4973 non-null   object\n",
      " 6   Ground_state  9218 non-null   object\n",
      " 7   Horses        9218 non-null   object\n",
      "dtypes: object(8)\n",
      "memory usage: 576.2+ KB\n"
     ]
    }
   ],
   "source": [
    "galopp.info()"
   ]
  },
  {
   "cell_type": "markdown",
   "metadata": {},
   "source": [
    "First thing I see is that there are some NaN values. 15 each on _Date_ and _Location_ (which are only 0.16% of the whole set). Because only a few are missing, and they are not really important to my goal, I fill them with the mode (normally not really applicable for the _Date_ , but it should be sufficient).\n",
    "\n",
    "Also, the columns 'Category' and 'Class' are missing 3115 and 4245, which are ~33% and ~46%. Normally, because they are categorical, they could be filled with the mode, but so many values are missing, so I decide to drop them, as they are not important for my goal.\n",
    "\n",
    "Next, the datatypes should be changed for _Distance_ and _Prize_ to int. But before that, the 'm' in _Distance_ and the '€' in _Prize_ have to be removed. (Also, there are '\\xa0's in both columns for each entry! These have to be removed too before converting to int.). And, at last, fill the empty strings with a 0, otherwise this would lead to ValueErrors when converting to int.\n",
    "\n",
    "The _Ground_state_ always contains the prefix 'Boden: ', this can also be removed."
   ]
  },
  {
   "cell_type": "code",
   "execution_count": 6,
   "metadata": {},
   "outputs": [],
   "source": [
    "# Drop columns\n",
    "galopp.drop(columns=[\"Category\", \"Class\"], inplace=True)\n",
    "\n",
    "# Fill dates and location by \n",
    "galopp[\"Date\"].fillna(galopp[\"Date\"].mode(), inplace=True)\n",
    "galopp[\"Location\"].fillna(galopp[\"Location\"].mode(), inplace=True)\n",
    "\n",
    "# Remove units\n",
    "galopp[\"Distance\"] = galopp[\"Distance\"].apply(lambda x: x.replace(\"m\", \"\"))\n",
    "galopp[\"Prize\"] = galopp[\"Prize\"].apply(lambda x: x.replace(\"€\", \"\"))\n",
    "\n",
    "# Remove bytes\n",
    "galopp[\"Distance\"] = galopp[\"Distance\"].apply(lambda x: x.replace(\"\\xa0\", \"\"))\n",
    "galopp[\"Prize\"] = galopp[\"Prize\"].apply(lambda x: x.replace(\"\\xa0\", \"\"))\n",
    "\n",
    "# Fill empty strings with 0\n",
    "galopp[\"Distance\"] = galopp[\"Distance\"].apply(lambda x: \"0\" if len(x) == 0 else x)\n",
    "galopp[\"Prize\"] = galopp[\"Prize\"].apply(lambda x: \"0\" if len(x) == 0 else x)\n",
    "\n",
    "# Change datatype to int\n",
    "galopp[\"Distance\"] = galopp[\"Distance\"].astype(int)\n",
    "galopp[\"Prize\"] = galopp[\"Prize\"].astype(int)\n",
    "\n",
    "# Remove 'Boden: ' prefix\n",
    "galopp[\"Ground_state\"] = galopp[\"Ground_state\"].apply(lambda x: x.replace(\"Boden: \", \"\"))"
   ]
  },
  {
   "cell_type": "markdown",
   "metadata": {},
   "source": [
    "Looking at the dataframe again:"
   ]
  },
  {
   "cell_type": "code",
   "execution_count": 7,
   "metadata": {},
   "outputs": [
    {
     "name": "stdout",
     "output_type": "stream",
     "text": [
      "<class 'pandas.core.frame.DataFrame'>\n",
      "RangeIndex: 9218 entries, 0 to 9217\n",
      "Data columns (total 6 columns):\n",
      " #   Column        Non-Null Count  Dtype \n",
      "---  ------        --------------  ----- \n",
      " 0   Date          9203 non-null   object\n",
      " 1   Location      9203 non-null   object\n",
      " 2   Distance      9218 non-null   int64 \n",
      " 3   Prize         9218 non-null   int64 \n",
      " 4   Ground_state  9218 non-null   object\n",
      " 5   Horses        9218 non-null   object\n",
      "dtypes: int64(2), object(4)\n",
      "memory usage: 432.2+ KB\n"
     ]
    }
   ],
   "source": [
    "galopp.info()"
   ]
  },
  {
   "cell_type": "code",
   "execution_count": 8,
   "metadata": {},
   "outputs": [
    {
     "data": {
      "text/html": [
       "<div>\n",
       "<style scoped>\n",
       "    .dataframe tbody tr th:only-of-type {\n",
       "        vertical-align: middle;\n",
       "    }\n",
       "\n",
       "    .dataframe tbody tr th {\n",
       "        vertical-align: top;\n",
       "    }\n",
       "\n",
       "    .dataframe thead th {\n",
       "        text-align: right;\n",
       "    }\n",
       "</style>\n",
       "<table border=\"1\" class=\"dataframe\">\n",
       "  <thead>\n",
       "    <tr style=\"text-align: right;\">\n",
       "      <th></th>\n",
       "      <th>Date</th>\n",
       "      <th>Location</th>\n",
       "      <th>Distance</th>\n",
       "      <th>Prize</th>\n",
       "      <th>Ground_state</th>\n",
       "      <th>Horses</th>\n",
       "    </tr>\n",
       "  </thead>\n",
       "  <tbody>\n",
       "    <tr>\n",
       "      <th>59</th>\n",
       "      <td>20. Januar 2013</td>\n",
       "      <td>Neuss (Sand)</td>\n",
       "      <td>1100</td>\n",
       "      <td>0</td>\n",
       "      <td>nass</td>\n",
       "      <td>['                   1.             ', ' Lords...</td>\n",
       "    </tr>\n",
       "    <tr>\n",
       "      <th>6046</th>\n",
       "      <td>12. Dezember 2017</td>\n",
       "      <td>Dortmund (Sand)</td>\n",
       "      <td>1700</td>\n",
       "      <td>6000</td>\n",
       "      <td>nass</td>\n",
       "      <td>['                   1.             ', ' Ivors...</td>\n",
       "    </tr>\n",
       "    <tr>\n",
       "      <th>4082</th>\n",
       "      <td>26. Mai 2016</td>\n",
       "      <td>Baden-Baden</td>\n",
       "      <td>2200</td>\n",
       "      <td>8000</td>\n",
       "      <td>gut</td>\n",
       "      <td>['                   1.             ', ' Saran...</td>\n",
       "    </tr>\n",
       "    <tr>\n",
       "      <th>4981</th>\n",
       "      <td>26. März 2017</td>\n",
       "      <td>Düsseldorf</td>\n",
       "      <td>2100</td>\n",
       "      <td>8750</td>\n",
       "      <td>weich</td>\n",
       "      <td>['                   1.             ', ' Shanj...</td>\n",
       "    </tr>\n",
       "    <tr>\n",
       "      <th>7968</th>\n",
       "      <td>11. August 2019</td>\n",
       "      <td>Hoppegarten</td>\n",
       "      <td>1800</td>\n",
       "      <td>7500</td>\n",
       "      <td>gut</td>\n",
       "      <td>['                   1.             ', ' Madem...</td>\n",
       "    </tr>\n",
       "    <tr>\n",
       "      <th>143</th>\n",
       "      <td>01. April 2013</td>\n",
       "      <td>Köln</td>\n",
       "      <td>2400</td>\n",
       "      <td>0</td>\n",
       "      <td>g-w</td>\n",
       "      <td>['                   1.             ', ' Lucar...</td>\n",
       "    </tr>\n",
       "    <tr>\n",
       "      <th>2961</th>\n",
       "      <td>30. Juni 2015</td>\n",
       "      <td>Hamburg</td>\n",
       "      <td>1200</td>\n",
       "      <td>10000</td>\n",
       "      <td>gut</td>\n",
       "      <td>['                   1.             ', ' Nando...</td>\n",
       "    </tr>\n",
       "    <tr>\n",
       "      <th>5288</th>\n",
       "      <td>04. Juni 2017</td>\n",
       "      <td>Hoppegarten</td>\n",
       "      <td>1200</td>\n",
       "      <td>2500</td>\n",
       "      <td>weich</td>\n",
       "      <td>['                   1.             ', ' Lord ...</td>\n",
       "    </tr>\n",
       "    <tr>\n",
       "      <th>7939</th>\n",
       "      <td>04. August 2019</td>\n",
       "      <td>Miesau</td>\n",
       "      <td>1400</td>\n",
       "      <td>2400</td>\n",
       "      <td>gut</td>\n",
       "      <td>['                   1.             ', ' Kingd...</td>\n",
       "    </tr>\n",
       "    <tr>\n",
       "      <th>8919</th>\n",
       "      <td>23. August 2020</td>\n",
       "      <td>Hannover</td>\n",
       "      <td>1600</td>\n",
       "      <td>12500</td>\n",
       "      <td>gut</td>\n",
       "      <td>['                   1.             ', ' Sun A...</td>\n",
       "    </tr>\n",
       "  </tbody>\n",
       "</table>\n",
       "</div>"
      ],
      "text/plain": [
       "                                               Date  \\\n",
       "59                     20. Januar 2013                \n",
       "6046                 12. Dezember 2017                \n",
       "4082                      26. Mai 2016                \n",
       "4981                     26. März 2017                \n",
       "7968                   11. August 2019                \n",
       "143                     01. April 2013                \n",
       "2961                     30. Juni 2015                \n",
       "5288                     04. Juni 2017                \n",
       "7939                   04. August 2019                \n",
       "8919                   23. August 2020                \n",
       "\n",
       "                                       Location  Distance  Prize  \\\n",
       "59                     Neuss (Sand)                  1100      0   \n",
       "6046                Dortmund (Sand)                  1700   6000   \n",
       "4082                    Baden-Baden                  2200   8000   \n",
       "4981                     Düsseldorf                  2100   8750   \n",
       "7968                    Hoppegarten                  1800   7500   \n",
       "143                            Köln                  2400      0   \n",
       "2961                        Hamburg                  1200  10000   \n",
       "5288                    Hoppegarten                  1200   2500   \n",
       "7939                         Miesau                  1400   2400   \n",
       "8919                       Hannover                  1600  12500   \n",
       "\n",
       "                                      Ground_state  \\\n",
       "59                          nass                     \n",
       "6046                        nass                     \n",
       "4082                         gut                     \n",
       "4981                       weich                     \n",
       "7968                         gut                     \n",
       "143                          g-w                     \n",
       "2961                         gut                     \n",
       "5288                       weich                     \n",
       "7939                         gut                     \n",
       "8919                         gut                     \n",
       "\n",
       "                                                 Horses  \n",
       "59    ['                   1.             ', ' Lords...  \n",
       "6046  ['                   1.             ', ' Ivors...  \n",
       "4082  ['                   1.             ', ' Saran...  \n",
       "4981  ['                   1.             ', ' Shanj...  \n",
       "7968  ['                   1.             ', ' Madem...  \n",
       "143   ['                   1.             ', ' Lucar...  \n",
       "2961  ['                   1.             ', ' Nando...  \n",
       "5288  ['                   1.             ', ' Lord ...  \n",
       "7939  ['                   1.             ', ' Kingd...  \n",
       "8919  ['                   1.             ', ' Sun A...  "
      ]
     },
     "execution_count": 8,
     "metadata": {},
     "output_type": "execute_result"
    }
   ],
   "source": [
    "galopp.sample(10)"
   ]
  },
  {
   "cell_type": "markdown",
   "metadata": {},
   "source": [
    "No NaNs and the fitting datatype, also the samples looking good aswell.\n",
    "So for those columns everything that needs to be done is done. Lets go on with the horses per race. For this, I intend to:\n",
    "- get the list of horses and make another dataframe of it\n",
    "- Clean this dataset (No column names and datatypes here)\n",
    "- Return the cleaned dataframe as a list and replace it\n",
    "- Save each horse participation in another dataframe / csv"
   ]
  },
  {
   "cell_type": "markdown",
   "metadata": {},
   "source": [
    "### Clean races and generate a participants dataframe"
   ]
  },
  {
   "cell_type": "code",
   "execution_count": 9,
   "metadata": {},
   "outputs": [],
   "source": [
    "def clean_placement_string(x):\n",
    "    \n",
    "    if \"NS\" in x: # Treat \"Nichtstarter\", horses who didn't start the race\n",
    "        x = -1\n",
    "    else:\n",
    "        x = x.replace(\".\",\"\")\n",
    "        x = x.replace(\"'\",\"\")\n",
    "        x = x.replace(\"[\",\"\")\n",
    "        x = x.replace(\"]\", \"\")\n",
    "        x = x.strip()\n",
    "    \n",
    "    return x\n",
    "\n",
    "def clean_horse_name_string(x):\n",
    "    x = x.replace(\"'\", \"\")\n",
    "    x = x.strip()\n",
    "    x = x.lower()\n",
    "    return x\n",
    "\n",
    "def clean_jockey_name_string(x):\n",
    "    x = x.replace(\"'\", \"\")\n",
    "    x = x.strip()\n",
    "    x = x.lower()\n",
    "    \n",
    "    if \".\" in x:\n",
    "        while \".\" in x:\n",
    "            x = x[x.index(\".\", )+1:] # Get surname by dot\n",
    "    elif len(x.split()) == 2:\n",
    "        x = x.split()[1]  # Get surname when both names are in the name string\n",
    "    else:\n",
    "        pass\n",
    "    \n",
    "    return x\n",
    "\n",
    "def clean_trainer_name_string(x):\n",
    "    x = x.replace(\"'\", \"\")\n",
    "    x = x.strip()\n",
    "    x = x.lower()\n",
    "    \n",
    "    if \".\" in x:\n",
    "        while \".\" in x:\n",
    "            x = x[x.index(\".\", )+1:] # Get surname by dot\n",
    "    elif len(x.split()) == 2:\n",
    "        x = x.split()[1]  # Get surname when both names are in the name string\n",
    "    else:\n",
    "        x=x\n",
    "    \n",
    "    return x\n",
    "\n",
    "def clean_weight_string(x):\n",
    "    x = x.replace(\"'\", \"\")\n",
    "    x = x.replace(\",\",\".\")\n",
    "    x = x.replace(\"]\", \"\")\n",
    "    x = x.strip()\n",
    "    return x"
   ]
  },
  {
   "cell_type": "code",
   "execution_count": 38,
   "metadata": {},
   "outputs": [
    {
     "name": "stdout",
     "output_type": "stream",
     "text": [
      "[['1' 'birthday prince' 'pietsch' '' '58.0']\n",
      " ['2' 'chartreuse' 'nagy' '' '58.0']\n",
      " ['3' 'pedro cays' 'bojko' '' '58.0']\n",
      " ['4' 'goldenveil' 'wandt' '' '56.0']\n",
      " ['5' 'prince vince' 'danz' '' '57.0']\n",
      " ['6' 'true lies' 'frank' '' '56.0']\n",
      " ['7' 'sajja' 'palik' '' '58.0']\n",
      " ['8' 'serafina' 'lopez' '' '56.0']\n",
      " ['9' 'serko (fr) (h)' 'weißmeier' '' '58.0']\n",
      " ['10' '\" champions time \"' 'porcu' '' '56.0]']]\n"
     ]
    }
   ],
   "source": [
    "# Load, clean, and replace each race\n",
    "races = []\n",
    "horses = []\n",
    "columns = [\"Place\", \"Horse_name\", \"Jockey_name\", \"Trainer_name\", \"Weight\"]\n",
    "\n",
    "for row in galopp[\"Horses\"]:\n",
    "    \n",
    "    # Load row as a seperate dataset and make it a dataframe for easier editing\n",
    "    split = row.split(\", \")\n",
    "    try:\n",
    "        row_reshaped = np.array(split).reshape((-1, 5))\n",
    "    except:\n",
    "        races.append(\"DELETE THIS ROW\") # Some rows just dont fit... delete the rows afterwards!\n",
    "    race_df = pd.DataFrame(data=row_reshaped, columns=columns)\n",
    "\n",
    "    # Clean dataset (and save a version with the races)\n",
    "    race_df[\"Place\"] = race_df[\"Place\"].apply(clean_placement_string)\n",
    "    race_df[\"Horse_name\"] = race_df[\"Horse_name\"].apply(clean_horse_name_string)\n",
    "    race_df[\"Jockey_name\"] = race_df[\"Jockey_name\"].apply(clean_jockey_name_string)\n",
    "    race_df[\"Trainer_name\"] = race_df[\"Trainer_name\"].apply(clean_trainer_name_string)\n",
    "    race_df[\"Weight\"] = race_df[\"Weight\"].apply(clean_weight_string)\n",
    "    \n",
    "    # Add each participant to a list\n",
    "    for horse in race_df.values:\n",
    "        horses.append(horse)\n",
    "        \n",
    "    # Add the whole race to a list\n",
    "    races.append(race_df.values)\n",
    "    \n",
    "# Save participations for further inspection\n",
    "all_participations_df = pd.DataFrame(data=horses, columns=columns)\n",
    "all_participations_df.to_csv(\"participations.csv\", index=False)\n",
    "\n",
    "# Replace the cleaned races with the old races in the dataframe"
   ]
  },
  {
   "cell_type": "code",
   "execution_count": 40,
   "metadata": {},
   "outputs": [
    {
     "data": {
      "text/plain": [
       "0    ['                   1.             ', ' Birth...\n",
       "Name: Horses, dtype: object"
      ]
     },
     "execution_count": 40,
     "metadata": {},
     "output_type": "execute_result"
    }
   ],
   "source": [
    "# Replace the cleaned races with the old races in the dataframe\n",
    "galopp[\"Horses\"].head(1)"
   ]
  },
  {
   "cell_type": "code",
   "execution_count": null,
   "metadata": {},
   "outputs": [],
   "source": []
  }
 ],
 "metadata": {
  "kernelspec": {
   "display_name": "Python 3",
   "language": "python",
   "name": "python3"
  },
  "language_info": {
   "codemirror_mode": {
    "name": "ipython",
    "version": 3
   },
   "file_extension": ".py",
   "mimetype": "text/x-python",
   "name": "python",
   "nbconvert_exporter": "python",
   "pygments_lexer": "ipython3",
   "version": "3.7.6"
  }
 },
 "nbformat": 4,
 "nbformat_minor": 4
}
