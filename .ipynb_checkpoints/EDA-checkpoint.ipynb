{
 "cells": [
  {
   "cell_type": "markdown",
   "metadata": {},
   "source": [
    "# Galopp-EDA"
   ]
  },
  {
   "cell_type": "code",
   "execution_count": 1,
   "metadata": {},
   "outputs": [],
   "source": [
    "import pandas as pd\n",
    "import seaborn as sns"
   ]
  },
  {
   "cell_type": "code",
   "execution_count": 2,
   "metadata": {},
   "outputs": [
    {
     "data": {
      "text/html": [
       "<div>\n",
       "<style scoped>\n",
       "    .dataframe tbody tr th:only-of-type {\n",
       "        vertical-align: middle;\n",
       "    }\n",
       "\n",
       "    .dataframe tbody tr th {\n",
       "        vertical-align: top;\n",
       "    }\n",
       "\n",
       "    .dataframe thead th {\n",
       "        text-align: right;\n",
       "    }\n",
       "</style>\n",
       "<table border=\"1\" class=\"dataframe\">\n",
       "  <thead>\n",
       "    <tr style=\"text-align: right;\">\n",
       "      <th></th>\n",
       "      <th>Place</th>\n",
       "      <th>Horse_name</th>\n",
       "      <th>Jockey_name</th>\n",
       "      <th>Trainer_name</th>\n",
       "      <th>Weight</th>\n",
       "      <th>Date</th>\n",
       "      <th>Location</th>\n",
       "      <th>Distance</th>\n",
       "      <th>Prize</th>\n",
       "      <th>Ground_state</th>\n",
       "    </tr>\n",
       "  </thead>\n",
       "  <tbody>\n",
       "    <tr>\n",
       "      <th>82727</th>\n",
       "      <td>4</td>\n",
       "      <td>shoemaker</td>\n",
       "      <td>timpelan</td>\n",
       "      <td>vovcenko</td>\n",
       "      <td>65.0</td>\n",
       "      <td>27/09/2020</td>\n",
       "      <td>köln</td>\n",
       "      <td>2200</td>\n",
       "      <td>4000</td>\n",
       "      <td>weich</td>\n",
       "    </tr>\n",
       "    <tr>\n",
       "      <th>69447</th>\n",
       "      <td>8</td>\n",
       "      <td>sarayu (fr)</td>\n",
       "      <td>polli</td>\n",
       "      <td>rudolph</td>\n",
       "      <td>52.5</td>\n",
       "      <td>20/06/2019</td>\n",
       "      <td>mannheim</td>\n",
       "      <td>1900</td>\n",
       "      <td>3600</td>\n",
       "      <td>gut</td>\n",
       "    </tr>\n",
       "    <tr>\n",
       "      <th>35187</th>\n",
       "      <td>3</td>\n",
       "      <td>summer princess</td>\n",
       "      <td>ferguson</td>\n",
       "      <td>NaN</td>\n",
       "      <td>57.0</td>\n",
       "      <td>30/04/2016</td>\n",
       "      <td>düsseldorf</td>\n",
       "      <td>1400</td>\n",
       "      <td>5100</td>\n",
       "      <td>w-s</td>\n",
       "    </tr>\n",
       "  </tbody>\n",
       "</table>\n",
       "</div>"
      ],
      "text/plain": [
       "       Place       Horse_name Jockey_name Trainer_name  Weight        Date  \\\n",
       "82727      4        shoemaker    timpelan     vovcenko    65.0  27/09/2020   \n",
       "69447      8      sarayu (fr)       polli      rudolph    52.5  20/06/2019   \n",
       "35187      3  summer princess    ferguson          NaN    57.0  30/04/2016   \n",
       "\n",
       "         Location  Distance  Prize Ground_state  \n",
       "82727        köln      2200   4000        weich  \n",
       "69447    mannheim      1900   3600          gut  \n",
       "35187  düsseldorf      1400   5100          w-s  "
      ]
     },
     "execution_count": 2,
     "metadata": {},
     "output_type": "execute_result"
    }
   ],
   "source": [
    "df = pd.read_csv(\"csvs/participations.csv\")\n",
    "df.sample(3)"
   ]
  },
  {
   "cell_type": "code",
   "execution_count": 3,
   "metadata": {},
   "outputs": [
    {
     "name": "stdout",
     "output_type": "stream",
     "text": [
      "<class 'pandas.core.frame.DataFrame'>\n",
      "RangeIndex: 84332 entries, 0 to 84331\n",
      "Data columns (total 10 columns):\n",
      " #   Column        Non-Null Count  Dtype  \n",
      "---  ------        --------------  -----  \n",
      " 0   Place         84332 non-null  int64  \n",
      " 1   Horse_name    84332 non-null  object \n",
      " 2   Jockey_name   84203 non-null  object \n",
      " 3   Trainer_name  40440 non-null  object \n",
      " 4   Weight        84327 non-null  float64\n",
      " 5   Date          84332 non-null  object \n",
      " 6   Location      84332 non-null  object \n",
      " 7   Distance      84332 non-null  int64  \n",
      " 8   Prize         84332 non-null  int64  \n",
      " 9   Ground_state  84273 non-null  object \n",
      "dtypes: float64(1), int64(3), object(6)\n",
      "memory usage: 6.4+ MB\n"
     ]
    }
   ],
   "source": [
    "df.info()"
   ]
  },
  {
   "cell_type": "code",
   "execution_count": 4,
   "metadata": {},
   "outputs": [],
   "source": [
    "# Change Date to a Datetime object\n",
    "df['Date'] = pd.to_datetime(df['Date'])"
   ]
  },
  {
   "cell_type": "code",
   "execution_count": 5,
   "metadata": {},
   "outputs": [
    {
     "data": {
      "text/plain": [
       "Place               0\n",
       "Horse_name          0\n",
       "Jockey_name       129\n",
       "Trainer_name    43892\n",
       "Weight              5\n",
       "Date                0\n",
       "Location            0\n",
       "Distance            0\n",
       "Prize               0\n",
       "Ground_state       59\n",
       "dtype: int64"
      ]
     },
     "execution_count": 5,
     "metadata": {},
     "output_type": "execute_result"
    }
   ],
   "source": [
    "df.isna().sum()"
   ]
  },
  {
   "cell_type": "code",
   "execution_count": 6,
   "metadata": {},
   "outputs": [],
   "source": [
    "# Create 2 new features, if a horse was on place 1 or not and on place 1-3 or not.\n",
    "df[\"Winner\"] = (df[\"Place\"]==1)\n",
    "df[\"Winner\"] = df[\"Winner\"].astype(\"int32\")\n",
    "\n",
    "df[\"Top3\"] = (df[\"Place\"]<=3)\n",
    "df[\"Top3\"] = df[\"Top3\"].astype(\"int32\")"
   ]
  },
  {
   "cell_type": "code",
   "execution_count": 7,
   "metadata": {},
   "outputs": [
    {
     "data": {
      "text/html": [
       "<div>\n",
       "<style scoped>\n",
       "    .dataframe tbody tr th:only-of-type {\n",
       "        vertical-align: middle;\n",
       "    }\n",
       "\n",
       "    .dataframe tbody tr th {\n",
       "        vertical-align: top;\n",
       "    }\n",
       "\n",
       "    .dataframe thead th {\n",
       "        text-align: right;\n",
       "    }\n",
       "</style>\n",
       "<table border=\"1\" class=\"dataframe\">\n",
       "  <thead>\n",
       "    <tr style=\"text-align: right;\">\n",
       "      <th></th>\n",
       "      <th>Place</th>\n",
       "      <th>Horse_name</th>\n",
       "      <th>Jockey_name</th>\n",
       "      <th>Trainer_name</th>\n",
       "      <th>Weight</th>\n",
       "      <th>Date</th>\n",
       "      <th>Location</th>\n",
       "      <th>Distance</th>\n",
       "      <th>Prize</th>\n",
       "      <th>Ground_state</th>\n",
       "      <th>Winner</th>\n",
       "      <th>Top3</th>\n",
       "    </tr>\n",
       "  </thead>\n",
       "  <tbody>\n",
       "    <tr>\n",
       "      <th>29466</th>\n",
       "      <td>5</td>\n",
       "      <td>liverbird</td>\n",
       "      <td>de vries</td>\n",
       "      <td>NaN</td>\n",
       "      <td>0.0</td>\n",
       "      <td>2015-09-13</td>\n",
       "      <td>münchen</td>\n",
       "      <td>1400</td>\n",
       "      <td>6000</td>\n",
       "      <td>gut</td>\n",
       "      <td>0</td>\n",
       "      <td>0</td>\n",
       "    </tr>\n",
       "  </tbody>\n",
       "</table>\n",
       "</div>"
      ],
      "text/plain": [
       "       Place Horse_name Jockey_name Trainer_name  Weight       Date Location  \\\n",
       "29466      5  liverbird    de vries          NaN     0.0 2015-09-13  münchen   \n",
       "\n",
       "       Distance  Prize Ground_state  Winner  Top3  \n",
       "29466      1400   6000          gut       0     0  "
      ]
     },
     "execution_count": 7,
     "metadata": {},
     "output_type": "execute_result"
    },
    {
     "data": {
      "image/png": "[encoded data removed]",
      "text/plain": [
       "<Figure size 432x288 with 1 Axes>"
      ]
     },
     "metadata": {
      "needs_background": "light"
     },
     "output_type": "display_data"
    }
   ],
   "source": [
    "# Look at the weight distribution\n",
    "# We clearly see some outliers above 65 and below 45, these need to be taken care of\n",
    "sns.boxplot(y=df[\"Weight\"])\n",
    "\n",
    "# Lets see which Horse has the weights under 45\n",
    "df[df[\"Weight\"]<45]"
   ]
  },
  {
   "cell_type": "code",
   "execution_count": 8,
   "metadata": {},
   "outputs": [
    {
     "name": "stdout",
     "output_type": "stream",
     "text": [
      "<class 'pandas.core.frame.DataFrame'>\n",
      "RangeIndex: 84332 entries, 0 to 84331\n",
      "Data columns (total 12 columns):\n",
      " #   Column        Non-Null Count  Dtype         \n",
      "---  ------        --------------  -----         \n",
      " 0   Place         84332 non-null  int64         \n",
      " 1   Horse_name    84332 non-null  object        \n",
      " 2   Jockey_name   84203 non-null  object        \n",
      " 3   Trainer_name  40440 non-null  object        \n",
      " 4   Weight        84327 non-null  float64       \n",
      " 5   Date          84332 non-null  datetime64[ns]\n",
      " 6   Location      84332 non-null  object        \n",
      " 7   Distance      84332 non-null  int64         \n",
      " 8   Prize         84332 non-null  int64         \n",
      " 9   Ground_state  84273 non-null  object        \n",
      " 10  Winner        84332 non-null  int32         \n",
      " 11  Top3          84332 non-null  int32         \n",
      "dtypes: datetime64[ns](1), float64(1), int32(2), int64(3), object(5)\n",
      "memory usage: 7.1+ MB\n"
     ]
    }
   ],
   "source": [
    "df.info()"
   ]
  },
  {
   "cell_type": "code",
   "execution_count": 33,
   "metadata": {},
   "outputs": [
    {
     "data": {
      "text/html": [
       "<div>\n",
       "<style scoped>\n",
       "    .dataframe tbody tr th:only-of-type {\n",
       "        vertical-align: middle;\n",
       "    }\n",
       "\n",
       "    .dataframe tbody tr th {\n",
       "        vertical-align: top;\n",
       "    }\n",
       "\n",
       "    .dataframe thead th {\n",
       "        text-align: right;\n",
       "    }\n",
       "</style>\n",
       "<table border=\"1\" class=\"dataframe\">\n",
       "  <thead>\n",
       "    <tr style=\"text-align: right;\">\n",
       "      <th></th>\n",
       "      <th>Place</th>\n",
       "      <th>Horse_name</th>\n",
       "      <th>Jockey_name</th>\n",
       "      <th>Trainer_name</th>\n",
       "      <th>Weight</th>\n",
       "      <th>Date</th>\n",
       "      <th>Location</th>\n",
       "      <th>Distance</th>\n",
       "      <th>Prize</th>\n",
       "      <th>Ground_state</th>\n",
       "      <th>Winner</th>\n",
       "      <th>Top3</th>\n",
       "    </tr>\n",
       "  </thead>\n",
       "  <tbody>\n",
       "  </tbody>\n",
       "</table>\n",
       "</div>"
      ],
      "text/plain": [
       "Empty DataFrame\n",
       "Columns: [Place, Horse_name, Jockey_name, Trainer_name, Weight, Date, Location, Distance, Prize, Ground_state, Winner, Top3]\n",
       "Index: []"
      ]
     },
     "execution_count": 33,
     "metadata": {},
     "output_type": "execute_result"
    }
   ],
   "source": [
    "def fill_weight_for_horse(horse_name):\n",
    "    \"\"\"\n",
    "    Fills 0 or NaN values in the weight of a horse by looking at the recent weight value before the NaN value\n",
    "    \"\"\"\n",
    "    horse_df = df[df[\"Horse_name\"]==horse_name]\n",
    "    horse_df = horse_df.sort_values(by=\"Date\", ascending=False)\n",
    "    recent_mean = horse_df.iloc[:1, 4].mean()\n",
    "    df.loc[(df[\"Horse_name\"]==horse_name) & ((df[\"Weight\"]==0) | (df[\"Weight\"].isna())), \"Weight\"] = recent_mean\n",
    "    \n",
    "horse_weights_to_fill = [\"liverbird\", \"jackobo (ire)\", \"volverino\", \"el zagal\", \"lord roderick (ire)\"]\n",
    "for horse in horse_weights_to_fill:\n",
    "    fill_weight_for_horse(horse)\n",
    "    \n",
    "# The horse shemidaria only attended 1 time, so it is hard to fill that value in.\n",
    "# Drop this horse\n",
    "index_to_drop = df[df[\"Horse_name\"]==\"shemidaria\"].index\n",
    "df.drop(index_to_drop, inplace=True)\n",
    "    \n",
    "df[df[\"Weight\"].isna()]\n",
    "#Now there are no NaN values anymore for the weights"
   ]
  },
  {
   "cell_type": "code",
   "execution_count": 35,
   "metadata": {},
   "outputs": [
    {
     "data": {
      "text/plain": [
       "Place               0\n",
       "Horse_name          0\n",
       "Jockey_name       128\n",
       "Trainer_name    43891\n",
       "Weight              0\n",
       "Date                0\n",
       "Location            0\n",
       "Distance            0\n",
       "Prize               0\n",
       "Ground_state       59\n",
       "Winner              0\n",
       "Top3                0\n",
       "dtype: int64"
      ]
     },
     "execution_count": 35,
     "metadata": {},
     "output_type": "execute_result"
    }
   ],
   "source": [
    "df.isna().sum()"
   ]
  },
  {
   "cell_type": "code",
   "execution_count": null,
   "metadata": {},
   "outputs": [],
   "source": []
  }
 ],
 "metadata": {
  "kernelspec": {
   "display_name": "Python 3",
   "language": "python",
   "name": "python3"
  },
  "language_info": {
   "codemirror_mode": {
    "name": "ipython",
    "version": 3
   },
   "file_extension": ".py",
   "mimetype": "text/x-python",
   "name": "python",
   "nbconvert_exporter": "python",
   "pygments_lexer": "ipython3",
   "version": "3.8.5"
  }
 },
 "nbformat": 4,
 "nbformat_minor": 4
}
