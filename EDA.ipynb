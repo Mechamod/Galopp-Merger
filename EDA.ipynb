{
 "cells": [
  {
   "cell_type": "markdown",
   "metadata": {},
   "source": [
    "# Galopp-EDA"
   ]
  },
  {
   "cell_type": "code",
   "execution_count": 1,
   "metadata": {},
   "outputs": [],
   "source": [
    "import pandas as pd\n",
    "import seaborn as sns"
   ]
  },
  {
   "cell_type": "code",
   "execution_count": 2,
   "metadata": {},
   "outputs": [
    {
     "data": {
      "text/html": [
       "<div>\n",
       "<style scoped>\n",
       "    .dataframe tbody tr th:only-of-type {\n",
       "        vertical-align: middle;\n",
       "    }\n",
       "\n",
       "    .dataframe tbody tr th {\n",
       "        vertical-align: top;\n",
       "    }\n",
       "\n",
       "    .dataframe thead th {\n",
       "        text-align: right;\n",
       "    }\n",
       "</style>\n",
       "<table border=\"1\" class=\"dataframe\">\n",
       "  <thead>\n",
       "    <tr style=\"text-align: right;\">\n",
       "      <th></th>\n",
       "      <th>Place</th>\n",
       "      <th>Horse_name</th>\n",
       "      <th>Jockey_name</th>\n",
       "      <th>Trainer_name</th>\n",
       "      <th>Weight</th>\n",
       "      <th>Date</th>\n",
       "      <th>Location</th>\n",
       "      <th>Distance</th>\n",
       "      <th>Prize</th>\n",
       "      <th>Ground_state</th>\n",
       "    </tr>\n",
       "  </thead>\n",
       "  <tbody>\n",
       "    <tr>\n",
       "      <th>1586</th>\n",
       "      <td>7</td>\n",
       "      <td>belle zorro</td>\n",
       "      <td>oppermann</td>\n",
       "      <td>NaN</td>\n",
       "      <td>53.5</td>\n",
       "      <td>20/04/2013</td>\n",
       "      <td>magdeburg</td>\n",
       "      <td>1800</td>\n",
       "      <td>0</td>\n",
       "      <td>gut</td>\n",
       "    </tr>\n",
       "    <tr>\n",
       "      <th>30049</th>\n",
       "      <td>3</td>\n",
       "      <td>chicane (fr)</td>\n",
       "      <td>minarik</td>\n",
       "      <td>NaN</td>\n",
       "      <td>56.5</td>\n",
       "      <td>27/09/2015</td>\n",
       "      <td>köln</td>\n",
       "      <td>1850</td>\n",
       "      <td>5100</td>\n",
       "      <td>weich</td>\n",
       "    </tr>\n",
       "    <tr>\n",
       "      <th>78722</th>\n",
       "      <td>2</td>\n",
       "      <td>notre ruler</td>\n",
       "      <td>delozier</td>\n",
       "      <td>schiergen</td>\n",
       "      <td>58.0</td>\n",
       "      <td>15/06/2020</td>\n",
       "      <td>münchen</td>\n",
       "      <td>2200</td>\n",
       "      <td>12500</td>\n",
       "      <td>weich</td>\n",
       "    </tr>\n",
       "  </tbody>\n",
       "</table>\n",
       "</div>"
      ],
      "text/plain": [
       "       Place    Horse_name Jockey_name Trainer_name  Weight        Date  \\\n",
       "1586       7   belle zorro   oppermann          NaN    53.5  20/04/2013   \n",
       "30049      3  chicane (fr)     minarik          NaN    56.5  27/09/2015   \n",
       "78722      2   notre ruler    delozier    schiergen    58.0  15/06/2020   \n",
       "\n",
       "        Location  Distance  Prize Ground_state  \n",
       "1586   magdeburg      1800      0          gut  \n",
       "30049       köln      1850   5100        weich  \n",
       "78722    münchen      2200  12500        weich  "
      ]
     },
     "execution_count": 2,
     "metadata": {},
     "output_type": "execute_result"
    }
   ],
   "source": [
    "df = pd.read_csv(\"csvs/participations.csv\")\n",
    "df.sample(3)"
   ]
  },
  {
   "cell_type": "code",
   "execution_count": 3,
   "metadata": {},
   "outputs": [
    {
     "name": "stdout",
     "output_type": "stream",
     "text": [
      "<class 'pandas.core.frame.DataFrame'>\n",
      "RangeIndex: 84332 entries, 0 to 84331\n",
      "Data columns (total 10 columns):\n",
      " #   Column        Non-Null Count  Dtype  \n",
      "---  ------        --------------  -----  \n",
      " 0   Place         84332 non-null  int64  \n",
      " 1   Horse_name    84332 non-null  object \n",
      " 2   Jockey_name   84203 non-null  object \n",
      " 3   Trainer_name  40440 non-null  object \n",
      " 4   Weight        84327 non-null  float64\n",
      " 5   Date          84332 non-null  object \n",
      " 6   Location      84332 non-null  object \n",
      " 7   Distance      84332 non-null  int64  \n",
      " 8   Prize         84332 non-null  int64  \n",
      " 9   Ground_state  84273 non-null  object \n",
      "dtypes: float64(1), int64(3), object(6)\n",
      "memory usage: 6.4+ MB\n"
     ]
    }
   ],
   "source": [
    "df.info()"
   ]
  },
  {
   "cell_type": "code",
   "execution_count": 4,
   "metadata": {},
   "outputs": [],
   "source": [
    "# Change Date to a Datetime object\n",
    "df['Date'] = pd.to_datetime(df['Date'])"
   ]
  },
  {
   "cell_type": "code",
   "execution_count": 5,
   "metadata": {},
   "outputs": [
    {
     "data": {
      "text/plain": [
       "Place               0\n",
       "Horse_name          0\n",
       "Jockey_name       129\n",
       "Trainer_name    43892\n",
       "Weight              5\n",
       "Date                0\n",
       "Location            0\n",
       "Distance            0\n",
       "Prize               0\n",
       "Ground_state       59\n",
       "dtype: int64"
      ]
     },
     "execution_count": 5,
     "metadata": {},
     "output_type": "execute_result"
    }
   ],
   "source": [
    "df.isna().sum()"
   ]
  },
  {
   "cell_type": "code",
   "execution_count": 6,
   "metadata": {},
   "outputs": [],
   "source": [
    "# Create 2 new features, if a horse was on place 1 or not and on place 1-3 or not.\n",
    "df[\"Winner\"] = (df[\"Place\"]==1)\n",
    "df[\"Winner\"] = df[\"Winner\"].astype(\"int32\")\n",
    "\n",
    "df[\"Top3\"] = (df[\"Place\"]<=3)\n",
    "df[\"Top3\"] = df[\"Top3\"].astype(\"int32\")"
   ]
  },
  {
   "cell_type": "code",
   "execution_count": 7,
   "metadata": {},
   "outputs": [
    {
     "data": {
      "text/html": [
       "<div>\n",
       "<style scoped>\n",
       "    .dataframe tbody tr th:only-of-type {\n",
       "        vertical-align: middle;\n",
       "    }\n",
       "\n",
       "    .dataframe tbody tr th {\n",
       "        vertical-align: top;\n",
       "    }\n",
       "\n",
       "    .dataframe thead th {\n",
       "        text-align: right;\n",
       "    }\n",
       "</style>\n",
       "<table border=\"1\" class=\"dataframe\">\n",
       "  <thead>\n",
       "    <tr style=\"text-align: right;\">\n",
       "      <th></th>\n",
       "      <th>Place</th>\n",
       "      <th>Horse_name</th>\n",
       "      <th>Jockey_name</th>\n",
       "      <th>Trainer_name</th>\n",
       "      <th>Weight</th>\n",
       "      <th>Date</th>\n",
       "      <th>Location</th>\n",
       "      <th>Distance</th>\n",
       "      <th>Prize</th>\n",
       "      <th>Ground_state</th>\n",
       "      <th>Winner</th>\n",
       "      <th>Top3</th>\n",
       "    </tr>\n",
       "  </thead>\n",
       "  <tbody>\n",
       "    <tr>\n",
       "      <th>29466</th>\n",
       "      <td>5</td>\n",
       "      <td>liverbird</td>\n",
       "      <td>de vries</td>\n",
       "      <td>NaN</td>\n",
       "      <td>0.0</td>\n",
       "      <td>2015-09-13</td>\n",
       "      <td>münchen</td>\n",
       "      <td>1400</td>\n",
       "      <td>6000</td>\n",
       "      <td>gut</td>\n",
       "      <td>0</td>\n",
       "      <td>0</td>\n",
       "    </tr>\n",
       "  </tbody>\n",
       "</table>\n",
       "</div>"
      ],
      "text/plain": [
       "       Place Horse_name Jockey_name Trainer_name  Weight       Date Location  \\\n",
       "29466      5  liverbird    de vries          NaN     0.0 2015-09-13  münchen   \n",
       "\n",
       "       Distance  Prize Ground_state  Winner  Top3  \n",
       "29466      1400   6000          gut       0     0  "
      ]
     },
     "execution_count": 7,
     "metadata": {},
     "output_type": "execute_result"
    },
    {
     "data": {
      "image/png": "[encoded data removed]",
      "text/plain": [
       "<Figure size 432x288 with 1 Axes>"
      ]
     },
     "metadata": {
      "needs_background": "light"
     },
     "output_type": "display_data"
    }
   ],
   "source": [
    "# Look at the weight distribution\n",
    "# We clearly see some outliers above 65 and below 45, these need to be taken care of\n",
    "sns.boxplot(y=df[\"Weight\"])\n",
    "\n",
    "# Lets see which Horse has the weights under 45\n",
    "df[df[\"Weight\"]<45]"
   ]
  },
  {
   "cell_type": "code",
   "execution_count": 8,
   "metadata": {},
   "outputs": [
    {
     "name": "stdout",
     "output_type": "stream",
     "text": [
      "<class 'pandas.core.frame.DataFrame'>\n",
      "RangeIndex: 84332 entries, 0 to 84331\n",
      "Data columns (total 12 columns):\n",
      " #   Column        Non-Null Count  Dtype         \n",
      "---  ------        --------------  -----         \n",
      " 0   Place         84332 non-null  int64         \n",
      " 1   Horse_name    84332 non-null  object        \n",
      " 2   Jockey_name   84203 non-null  object        \n",
      " 3   Trainer_name  40440 non-null  object        \n",
      " 4   Weight        84327 non-null  float64       \n",
      " 5   Date          84332 non-null  datetime64[ns]\n",
      " 6   Location      84332 non-null  object        \n",
      " 7   Distance      84332 non-null  int64         \n",
      " 8   Prize         84332 non-null  int64         \n",
      " 9   Ground_state  84273 non-null  object        \n",
      " 10  Winner        84332 non-null  int32         \n",
      " 11  Top3          84332 non-null  int32         \n",
      "dtypes: datetime64[ns](1), float64(1), int32(2), int64(3), object(5)\n",
      "memory usage: 7.1+ MB\n"
     ]
    }
   ],
   "source": [
    "df.info()"
   ]
  },
  {
   "cell_type": "code",
   "execution_count": 9,
   "metadata": {},
   "outputs": [],
   "source": [
    "# Seems like it is only 1, with the name \"liverbird\"\n",
    "# Look for other occurences of liverbird\n",
    "liverbird_df = df[df[\"Horse_name\"]==\"liverbird\"]\n",
    "\n",
    "# We can get a look at the weights of this specific horse.\n",
    "# By looking sorting at the date, and selecting the recent 3 ones,\n",
    "# we compute the mean and fill it in\n",
    "liverbird_df = liverbird_df.sort_values(by=\"Date\", ascending=False)\n",
    "recent_mean = liverbird_df.iloc[:3, 4].mean()\n",
    "df[\"Weight\"] = df[\"Weight\"].apply(lambda x: recent_mean if x == 0 else x)"
   ]
  },
  {
   "cell_type": "code",
   "execution_count": 10,
   "metadata": {},
   "outputs": [
    {
     "data": {
      "text/plain": [
       "Place               0\n",
       "Horse_name          0\n",
       "Jockey_name       129\n",
       "Trainer_name    43892\n",
       "Weight              5\n",
       "Date                0\n",
       "Location            0\n",
       "Distance            0\n",
       "Prize               0\n",
       "Ground_state       59\n",
       "Winner              0\n",
       "Top3                0\n",
       "dtype: int64"
      ]
     },
     "execution_count": 10,
     "metadata": {},
     "output_type": "execute_result"
    }
   ],
   "source": [
    "df.isna().sum()"
   ]
  },
  {
   "cell_type": "code",
   "execution_count": null,
   "metadata": {},
   "outputs": [],
   "source": []
  }
 ],
 "metadata": {
  "kernelspec": {
   "display_name": "Python 3",
   "language": "python",
   "name": "python3"
  },
  "language_info": {
   "codemirror_mode": {
    "name": "ipython",
    "version": 3
   },
   "file_extension": ".py",
   "mimetype": "text/x-python",
   "name": "python",
   "nbconvert_exporter": "python",
   "pygments_lexer": "ipython3",
   "version": "3.8.5"
  }
 },
 "nbformat": 4,
 "nbformat_minor": 4
}
